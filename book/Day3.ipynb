{
 "cells": [
  {
   "metadata": {},
   "cell_type": "markdown",
   "source": [
    "# Day 3: Mull It Over\n",
    "\n",
    "### Part 1\n",
    "\"Our computers are having issues, so I have no idea if we have any Chief Historians in stock! You're welcome to check the warehouse, though,\" says the mildly flustered shopkeeper at the North Pole Toboggan Rental Shop. The Historians head out to take a look.\n",
    "\n",
    "The shopkeeper turns to you. \"Any chance you can see why our computers are having issues again?\"\n",
    "\n",
    "The computer appears to be trying to run a program, but its memory (your puzzle input) is corrupted. All of the instructions have been jumbled up!\n",
    "\n",
    "It seems like the goal of the program is just to multiply some numbers. It does that with instructions like mul(X,Y), where X and Y are each 1-3 digit numbers. For instance, mul(44,46) multiplies 44 by 46 to get a result of 2024. Similarly, mul(123,4) would multiply 123 by 4.\n",
    "\n",
    "However, because the program's memory has been corrupted, there are also many invalid characters that should be ignored, even if they look like part of a mul instruction. Sequences like mul(4*, mul(6,9!, ?(12,34), or mul ( 2 , 4 ) do nothing.\n",
    "\n",
    "For example, consider the following section of corrupted memory:\n",
    "\n",
    "`xmul(2,4)%&mul[3,7]!@^do_not_mul(5,5)+mul(32,64]then(mul(11,8)mul(8,5))`\n",
    "\n",
    "Only the four highlighted sections are real mul instructions. Adding up the result of each instruction produces `161 (2*4 + 5*5 + 11*8 + 8*5)`.\n",
    "\n",
    "Scan the corrupted memory for uncorrupted mul instructions. What do you get if you add up all of the results of the multiplications?\n",
    "\n",
    "\n"
   ]
  },
  {
   "metadata": {
    "ExecuteTime": {
     "end_time": "2024-12-03T13:20:13.719661Z",
     "start_time": "2024-12-03T13:20:13.057081Z"
    }
   },
   "cell_type": "code",
   "source": [
    "import com.psyndicate.aoc.readResourceAsText\n",
    "import kotlin.test.assertEquals\n",
    "\n",
    "val testInput = \"\"\"xmul(2,4)%&mul[3,7]!@^do_not_mul(5,5)+mul(32,64]then(mul(11,8)mul(8,5))\"\"\"\n",
    "\n",
    "sealed class Operator {\n",
    "    data class Mul(val a: Int, val b: Int) : Operator()\n",
    "    data object Do : Operator()\n",
    "    data object Dont : Operator()\n",
    "}\n",
    "\n",
    "fun parseOps(input: String): List<Operator> = buildList {\n",
    "    val mulRegex = \"mul\\\\((\\\\d{1,3}),(\\\\d{1,3})\\\\)|do\\\\(\\\\)|don\\'t\\\\(\\\\)\".toRegex()\n",
    "    var index = 0\n",
    "    while (index < input.length) {\n",
    "        mulRegex.matchAt(input, index)?.let {\n",
    "            val op = when {\n",
    "                it.value == \"do()\" -> Operator.Do\n",
    "                it.value == \"don\\'t()\" -> Operator.Dont\n",
    "                it.value.startsWith(\"mul(\") -> {\n",
    "                    val a = it.groups[1]?.value\n",
    "                    val b = it.groups[2]?.value\n",
    "                    if (!a.isNullOrBlank() && !b.isNullOrBlank()) {\n",
    "                        Operator.Mul(a.toInt(), b.toInt())\n",
    "                    } else {\n",
    "                        null\n",
    "                    }\n",
    "                }\n",
    "                else -> null\n",
    "            }\n",
    "\n",
    "            if (op != null) {\n",
    "                add(op)\n",
    "                index += it.value.length\n",
    "            } else {\n",
    "                index++\n",
    "            }\n",
    "        } ?: index++\n",
    "    }\n",
    "}\n",
    "\n",
    "fun calculatePart1(input: String): Int = parseOps(input)\n",
    "    .filterIsInstance<Operator.Mul>()\n",
    "    .sumOf { mul -> mul.a * mul.b }\n",
    "\n",
    "val testInputResult = calculatePart1(testInput)\n",
    "println(\"Test Part 1: ${testInputResult}\")\n",
    "assertEquals(161, testInputResult)\n",
    "\n",
    "val puzzleInput = readResourceAsText(\"/day3/input.txt\")\n",
    "val part1Result = calculatePart1(puzzleInput)\n",
    "println(\"Part 1: ${part1Result}\")\n",
    "assertEquals(179571322, part1Result)\n"
   ],
   "outputs": [
    {
     "name": "stdout",
     "output_type": "stream",
     "text": [
      "Test Part 1: 161\n",
      "Part 1: 179571322\n"
     ]
    }
   ],
   "execution_count": 1
  },
  {
   "metadata": {},
   "cell_type": "markdown",
   "source": [
    "### Part 2\n",
    "\n",
    "As you scan through the corrupted memory, you notice that some of the conditional statements are also still intact. If you handle some of the uncorrupted conditional statements in the program, you might be able to get an even more accurate result.\n",
    "\n",
    "There are two new instructions you'll need to handle:\n",
    "\n",
    "The do() instruction enables future mul instructions.\n",
    "The don't() instruction disables future mul instructions.\n",
    "Only the most recent do() or don't() instruction applies. At the beginning of the program, mul instructions are enabled.\n",
    "\n",
    "For example:\n",
    "\n",
    "`xmul(2,4)&mul[3,7]!^don't()_mul(5,5)+mul(32,64](mul(11,8)undo()?mul(8,5))`\n",
    "\n",
    "This corrupted memory is similar to the example from before, but this time the mul(5,5) and mul(11,8) instructions are disabled because there is a don't() instruction before them. The other mul instructions function normally, including the one at the end that gets re-enabled by a do() instruction.\n",
    "\n",
    "This time, the sum of the results is 48 (2*4 + 8*5).\n",
    "\n",
    "Handle the new instructions; what do you get if you add up all of the results of just the enabled multiplications?\n",
    "\n"
   ]
  },
  {
   "metadata": {
    "ExecuteTime": {
     "end_time": "2024-12-03T13:20:13.912137Z",
     "start_time": "2024-12-03T13:20:13.744953Z"
    }
   },
   "cell_type": "code",
   "source": [
    "\n",
    "fun Iterable<Operator>.filterDisabled(): List<Operator.Mul> = buildList {\n",
    "    var enabled = true\n",
    "    this@filterDisabled.forEach {\n",
    "        when(it) {\n",
    "            is Operator.Do -> enabled = true\n",
    "            is Operator.Dont -> enabled = false\n",
    "            is Operator.Mul -> if (enabled) add(it)\n",
    "        }\n",
    "    }\n",
    "}\n",
    "\n",
    "fun calculatePart2(input: String): Int = parseOps(input)\n",
    "    .filterDisabled()\n",
    "    .sumOf { mul -> mul.a * mul.b }\n",
    "\n",
    "val testInputPart2 = \"\"\"xmul(2,4)&mul[3,7]!^don't()_mul(5,5)+mul(32,64](mul(11,8)undo()?mul(8,5))\"\"\"\n",
    "\n",
    "val testInputPart2Result = calculatePart2(testInputPart2)\n",
    "println(\"Test Part 2: ${testInputPart2Result}\")\n",
    "assertEquals(48, testInputPart2Result)\n",
    "\n",
    "val part2Result = calculatePart2(puzzleInput)\n",
    "println(\"Part 2: ${part2Result}\")\n",
    "assertEquals(103811193, part2Result)"
   ],
   "outputs": [
    {
     "name": "stdout",
     "output_type": "stream",
     "text": [
      "Test Part 2: 48\n",
      "Part 2: 103811193\n"
     ]
    }
   ],
   "execution_count": 2
  }
 ],
 "metadata": {
  "kernelspec": {
   "display_name": "Kotlin",
   "language": "kotlin",
   "name": "kotlin"
  },
  "language_info": {
   "name": "kotlin",
   "version": "1.9.23",
   "mimetype": "text/x-kotlin",
   "file_extension": ".kt",
   "pygments_lexer": "kotlin",
   "codemirror_mode": "text/x-kotlin",
   "nbconvert_exporter": ""
  },
  "ktnbPluginMetadata": {
   "projectDependencies": [
    "aoc-2024.main"
   ],
   "projectLibraries": false
  }
 },
 "nbformat": 4,
 "nbformat_minor": 0
}
