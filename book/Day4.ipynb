{
 "cells": [
  {
   "metadata": {},
   "cell_type": "markdown",
   "source": [
    "# Day 4: Ceres Search\n",
    "\n",
    "### Part 1\n",
    "\n",
    "\"Looks like the Chief's not here. Next!\" One of The Historians pulls out a device and pushes the only button on it. After a brief flash, you recognize the interior of the Ceres monitoring station!\n",
    "\n",
    "As the search for the Chief continues, a small Elf who lives on the station tugs on your shirt; she'd like to know if you could help her with her word search (your puzzle input). She only has to find one word: XMAS.\n",
    "\n",
    "This word search allows words to be horizontal, vertical, diagonal, written backwards, or even overlapping other words. It's a little unusual, though, as you don't merely need to find one instance of XMAS - you need to find all of them. Here are a few ways XMAS might appear, where irrelevant characters have been replaced with .:\n",
    "\n",
    "```\n",
    "..X...\n",
    ".SAMX.\n",
    ".A..A.\n",
    "XMAS.S\n",
    ".X....\n",
    "```\n",
    "\n",
    "The actual word search will be full of letters instead. For example:\n",
    "\n",
    "```\n",
    "MMMSXXMASM\n",
    "MSAMXMSMSA\n",
    "AMXSXMAAMM\n",
    "MSAMASMSMX\n",
    "XMASAMXAMM\n",
    "XXAMMXXAMA\n",
    "SMSMSASXSS\n",
    "SAXAMASAAA\n",
    "MAMMMXMMMM\n",
    "MXMXAXMASX\n",
    "```\n",
    "\n",
    "In this word search, XMAS occurs a total of 18 times; here's the same word search again, but where letters not involved in any XMAS have been replaced with .:\n",
    "\n",
    "```\n",
    "....XXMAS.\n",
    ".SAMXMS...\n",
    "...S..A...\n",
    "..A.A.MS.X\n",
    "XMASAMX.MM\n",
    "X.....XA.A\n",
    "S.S.S.S.SS\n",
    ".A.A.A.A.A\n",
    "..M.M.M.MM\n",
    ".X.X.XMASX\n",
    "```\n",
    "\n",
    "Take a look at the little Elf's word search. How many times does XMAS appear?\n",
    "\n"
   ]
  },
  {
   "metadata": {
    "ExecuteTime": {
     "end_time": "2024-12-04T15:10:06.126477Z",
     "start_time": "2024-12-04T15:10:05.966324Z"
    }
   },
   "cell_type": "code",
   "source": [
    "import com.psyndicate.aoc.*\n",
    "import kotlin.test.assertEquals\n",
    "\n",
    "val testInput =\n",
    "    \"\"\"\n",
    "    MMMSXXMASM\n",
    "    MSAMXMSMSA\n",
    "    AMXSXMAAMM\n",
    "    MSAMASMSMX\n",
    "    XMASAMXAMM\n",
    "    XXAMMXXAMA\n",
    "    SMSMSASXSS\n",
    "    SAXAMASAAA\n",
    "    MAMMMXMMMM\n",
    "    MXMXAXMASX\n",
    "    \"\"\".trimIndent()\n",
    "\n",
    "fun <T> Bitmap<T>.searchFrom(coord: Coord, direction: Direction, value: String): Boolean {\n",
    "    value.forEachIndexed { index, c ->\n",
    "        if (this[coord.x + direction.dx * index, coord.y + direction.dy * index] != c) {\n",
    "            return@searchFrom false\n",
    "        }\n",
    "    }\n",
    "    return true\n",
    "}\n",
    "\n",
    "fun calculatePart1(input: String): Int {\n",
    "    val bitmap = bitmapFromString(input)\n",
    "    return bitmap.coords().sumOf { coord ->\n",
    "        Direction.entries.count { direction ->\n",
    "            bitmap.searchFrom(coord, direction, \"XMAS\")\n",
    "        }\n",
    "    }\n",
    "}\n",
    "\n",
    "val testInputResult = calculatePart1(testInput)\n",
    "println(\"Test Part 1: ${testInputResult}\")\n",
    "assertEquals(18, testInputResult)\n",
    "\n",
    "val puzzleInput = readResourceAsText(\"/day4/input.txt\")\n",
    "val part1Result = calculatePart1(puzzleInput)\n",
    "println(\"Part 1: ${part1Result}\")\n",
    "assertEquals(2569, part1Result)\n"
   ],
   "outputs": [
    {
     "name": "stdout",
     "output_type": "stream",
     "text": [
      "Test Part 1: 18\n",
      "Part 1: 2569\n"
     ]
    }
   ],
   "execution_count": 6
  },
  {
   "metadata": {},
   "cell_type": "markdown",
   "source": [
    "### Part 2\n",
    "\n",
    "The Elf looks quizzically at you. Did you misunderstand the assignment?\n",
    "\n",
    "Looking for the instructions, you flip over the word search to find that this isn't actually an XMAS puzzle; it's an X-MAS puzzle in which you're supposed to find two MAS in the shape of an X. One way to achieve that is like this:\n",
    "\n",
    "M.S\n",
    ".A.\n",
    "M.S\n",
    "Irrelevant characters have again been replaced with . in the above diagram. Within the X, each MAS can be written forwards or backwards.\n",
    "\n",
    "Here's the same example from before, but this time all of the X-MASes have been kept instead:\n",
    "\n",
    "```\n",
    ".M.S......\n",
    "..A..MSMS.\n",
    ".M.S.MAA..\n",
    "..A.ASMSM.\n",
    ".M.S.M....\n",
    "..........\n",
    "S.S.S.S.S.\n",
    ".A.A.A.A..\n",
    "M.M.M.M.M.\n",
    "..........\n",
    "```\n",
    "\n",
    "In this example, an X-MAS appears 9 times.\n",
    "\n",
    "Flip the word search from the instructions back over to the word search side and try again. How many times does an X-MAS appear?"
   ]
  },
  {
   "metadata": {
    "ExecuteTime": {
     "end_time": "2024-12-04T15:10:09.220789Z",
     "start_time": "2024-12-04T15:10:09.103249Z"
    }
   },
   "cell_type": "code",
   "source": [
    "import com.psyndicate.aoc.Bitmap\n",
    "import com.psyndicate.aoc.Coord\n",
    "import com.psyndicate.aoc.Direction\n",
    "\n",
    "fun <T> Pair<T?, T?>.checkMS(): Boolean = (first == 'M' && second == 'S') || (first == 'S' && second == 'M')\n",
    "\n",
    "fun <T> Bitmap<T>.searchXMASFrom(c: Coord): Boolean {\n",
    "    if (this[c] != 'A') return false\n",
    "    return (this[c + Direction.LEFT_UP] to this[c + Direction.RIGHT_DOWN]).checkMS() &&\n",
    "            (this[c + Direction.LEFT_DOWN] to this[c + Direction.RIGHT_UP]).checkMS()\n",
    "}\n",
    "\n",
    "fun calculatePart2(input: String): Int {\n",
    "    val bitmap = bitmapFromString(input)\n",
    "    return bitmap.coords().count { bitmap.searchXMASFrom(it) }\n",
    "}\n",
    "\n",
    "val testInputPart2Result = calculatePart2(testInput)\n",
    "println(\"Test Part 1: ${testInputPart2Result}\")\n",
    "assertEquals(9, testInputPart2Result)\n",
    "\n",
    "val part2Result = calculatePart2(puzzleInput)\n",
    "println(\"Part 2: ${part2Result}\")\n",
    "assertEquals(1998, part2Result)"
   ],
   "outputs": [
    {
     "name": "stdout",
     "output_type": "stream",
     "text": [
      "Test Part 1: 9\n",
      "Part 2: 1998\n"
     ]
    }
   ],
   "execution_count": 7
  }
 ],
 "metadata": {
  "kernelspec": {
   "display_name": "Kotlin",
   "language": "kotlin",
   "name": "kotlin"
  },
  "language_info": {
   "name": "kotlin",
   "version": "1.9.23",
   "mimetype": "text/x-kotlin",
   "file_extension": ".kt",
   "pygments_lexer": "kotlin",
   "codemirror_mode": "text/x-kotlin",
   "nbconvert_exporter": ""
  },
  "ktnbPluginMetadata": {
   "projectDependencies": [
    "aoc-2024.main"
   ],
   "projectLibraries": false
  }
 },
 "nbformat": 4,
 "nbformat_minor": 0
}
