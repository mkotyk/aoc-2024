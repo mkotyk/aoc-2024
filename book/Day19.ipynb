{
 "cells": [
  {
   "metadata": {},
   "cell_type": "markdown",
   "source": [
    "# Day 19: Linen Layout\n",
    "\n",
    "### Part 1\n",
    "\n",
    "Today, The Historians take you up to the hot springs on Gear Island! Very suspiciously, absolutely nothing goes wrong as they begin their careful search of the vast field of helixes.\n",
    "\n",
    "Could this finally be your chance to visit the onsen next door? Only one way to find out.\n",
    "\n",
    "After a brief conversation with the reception staff at the onsen front desk, you discover that you don't have the right kind of money to pay the admission fee. However, before you can leave, the staff get your attention. Apparently, they've heard about how you helped at the hot springs, and they're willing to make a deal: if you can simply help them arrange their towels, they'll let you in for free!\n",
    "\n",
    "Every towel at this onsen is marked with a pattern of colored stripes. There are only a few patterns, but for any particular pattern, the staff can get you as many towels with that pattern as you need. Each stripe can be white (w), blue (u), black (b), red (r), or green (g). So, a towel with the pattern ggr would have a green stripe, a green stripe, and then a red stripe, in that order. (You can't reverse a pattern by flipping a towel upside-down, as that would cause the onsen logo to face the wrong way.)\n",
    "\n",
    "The Official Onsen Branding Expert has produced a list of designs - each a long sequence of stripe colors - that they would like to be able to display. You can use any towels you want, but all of the towels' stripes must exactly match the desired design. So, to display the design rgrgr, you could use two rg towels and then an r towel, an rgr towel and then a gr towel, or even a single massive rgrgr towel (assuming such towel patterns were actually available).\n",
    "\n",
    "To start, collect together all of the available towel patterns and the list of desired designs (your puzzle input). For example:\n",
    "\n",
    "```\n",
    "r, wr, b, g, bwu, rb, gb, br\n",
    "\n",
    "brwrr\n",
    "bggr\n",
    "gbbr\n",
    "rrbgbr\n",
    "ubwu\n",
    "bwurrg\n",
    "brgr\n",
    "bbrgwb\n",
    "```\n",
    "\n",
    "The first line indicates the available towel patterns; in this example, the onsen has unlimited towels with a single red stripe (r), unlimited towels with a white stripe and then a red stripe (wr), and so on.\n",
    "\n",
    "After the blank line, the remaining lines each describe a design the onsen would like to be able to display. In this example, the first design (brwrr) indicates that the onsen would like to be able to display a black stripe, a red stripe, a white stripe, and then two red stripes, in that order.\n",
    "\n",
    "Not all designs will be possible with the available towels. In the above example, the designs are possible or impossible as follows:\n",
    "\n",
    "- brwrr can be made with a br towel, then a wr towel, and then finally an r towel.\n",
    "- bggr can be made with a b towel, two g towels, and then an r towel.\n",
    "- gbbr can be made with a gb towel and then a br towel.\n",
    "- rrbgbr can be made with r, rb, g, and br.\n",
    "- ubwu is impossible.\n",
    "- bwurrg can be made with bwu, r, r, and g.\n",
    "- brgr can be made with br, g, and r.\n",
    "- bbrgwb is impossible.\n",
    "\n",
    "In this example, 6 of the eight designs are possible with the available towel patterns.\n",
    "\n",
    "To get into the onsen as soon as possible, consult your list of towel patterns and desired designs carefully. How many designs are possible?\n"
   ]
  },
  {
   "metadata": {
    "ExecuteTime": {
     "end_time": "2024-12-19T13:22:45.036730Z",
     "start_time": "2024-12-19T13:22:44.821284Z"
    }
   },
   "cell_type": "code",
   "source": [
    "import com.psyndicate.aoc.*\n",
    "import kotlin.test.*\n",
    "\n",
    "val testInput =\n",
    "    \"\"\"\n",
    "    r, wr, b, g, bwu, rb, gb, br\n",
    "\n",
    "    brwrr\n",
    "    bggr\n",
    "    gbbr\n",
    "    rrbgbr\n",
    "    ubwu\n",
    "    bwurrg\n",
    "    brgr\n",
    "    bbrgwb\n",
    "    \"\"\".trimIndent()\n",
    "typealias Pattern = String\n",
    "typealias Design = String\n",
    "\n",
    "fun parseInput(input: String): Pair<Set<Pattern>, List<Design>> =\n",
    "    input.split(\"\\n\\n\").let { it[0].split(\", \").toSet() to it[1].split(\"\\n\") }\n",
    "\n",
    "fun countPossibleWays(design: Design, patterns: Set<Pattern>, memoCache: MemoCache<Design, Long>): Long {\n",
    "    if (design.isEmpty()) return 1L\n",
    "    return memoCache.memoize(design) {\n",
    "        patterns\n",
    "            .filter { design.startsWith(it) }\n",
    "            .sumOf { countPossibleWays(design.drop(it.length), patterns, memoCache) }\n",
    "    }\n",
    "}\n",
    "\n",
    "fun calculatePart1(input: String): Int {\n",
    "    val (patterns, designs) = parseInput(input)\n",
    "    val memoCache = MemoCache<Design, Long>()\n",
    "    return designs.count { design -> countPossibleWays(design, patterns, memoCache) != 0L }\n",
    "}\n",
    "\n",
    "val testInputPart1Result = calculatePart1(testInput)\n",
    "DISPLAY(\"Test Part 1: ${testInputPart1Result}\")\n",
    "assertEquals(6, testInputPart1Result)\n",
    "\n",
    "val puzzleInput = readResourceAsText(\"/day19/input.txt\")\n",
    "val part1Result = calculatePart1(puzzleInput)\n",
    "DISPLAY(\"Part 1: ${part1Result}\")\n",
    "assertEquals(242, part1Result)"
   ],
   "outputs": [
    {
     "data": {
      "text/plain": [
       "Test Part 1: 6"
      ]
     },
     "metadata": {},
     "output_type": "display_data"
    },
    {
     "data": {
      "text/plain": [
       "Part 1: 242"
      ]
     },
     "metadata": {},
     "output_type": "display_data"
    }
   ],
   "execution_count": 15
  },
  {
   "metadata": {},
   "cell_type": "markdown",
   "source": [
    "### Part 2\n",
    "\n",
    "The staff don't really like some of the towel arrangements you came up with. To avoid an endless cycle of towel rearrangement, maybe you should just give them every possible option.\n",
    "\n",
    "Here are all of the different ways the above example's designs can be made:\n",
    "\n",
    "brwrr can be made in two different ways: b, r, wr, r or br, wr, r.\n",
    "\n",
    "bggr can only be made with b, g, g, and r.\n",
    "\n",
    "gbbr can be made 4 different ways:\n",
    "\n",
    "- g, b, b, r\n",
    "- g, b, br\n",
    "- gb, b, r\n",
    "- gb, br\n",
    "\n",
    "rrbgbr can be made 6 different ways:\n",
    "\n",
    "- r, r, b, g, b, r\n",
    "- r, r, b, g, br\n",
    "- r, r, b, gb, r\n",
    "- r, rb, g, b, r\n",
    "- r, rb, g, br\n",
    "- r, rb, gb, r\n",
    "\n",
    "bwurrg can only be made with bwu, r, r, and g.\n",
    "\n",
    "brgr can be made in two different ways: b, r, g, r or br, g, r.\n",
    "\n",
    "ubwu and bbrgwb are still impossible.\n",
    "\n",
    "Adding up all of the ways the towels in this example could be arranged into the desired designs yields 16 (2 + 1 + 4 + 6 + 1 + 2).\n",
    "\n",
    "They'll let you into the onsen as soon as you have the list. What do you get if you add up the number of different ways you could make each design?\n",
    "\n"
   ]
  },
  {
   "metadata": {
    "ExecuteTime": {
     "end_time": "2024-12-19T13:22:45.145742Z",
     "start_time": "2024-12-19T13:22:45.050594Z"
    }
   },
   "cell_type": "code",
   "source": [
    "fun calculatePart2(input: String): Long {\n",
    "    val (patterns, designs) = parseInput(input)\n",
    "    val memoCache = MemoCache<Design, Long>()\n",
    "    return designs.sumOf { design -> countPossibleWays(design, patterns, memoCache) }\n",
    "}\n",
    "\n",
    "val testInputPart2Result = calculatePart2(testInput)\n",
    "DISPLAY(\"Test Part 2: ${testInputPart2Result}\")\n",
    "assertEquals(16L, testInputPart2Result)\n",
    "\n",
    "val part2Result = calculatePart2(puzzleInput)\n",
    "DISPLAY(\"Part 2: ${part2Result}\")\n",
    "assertEquals(595975512785325L, part2Result)"
   ],
   "outputs": [
    {
     "data": {
      "text/plain": [
       "Test Part 2: 16"
      ]
     },
     "metadata": {},
     "output_type": "display_data"
    },
    {
     "data": {
      "text/plain": [
       "Part 2: 595975512785325"
      ]
     },
     "metadata": {},
     "output_type": "display_data"
    }
   ],
   "execution_count": 16
  }
 ],
 "metadata": {
  "kernelspec": {
   "display_name": "Kotlin",
   "language": "kotlin",
   "name": "kotlin"
  },
  "language_info": {
   "name": "kotlin",
   "version": "1.9.23",
   "mimetype": "text/x-kotlin",
   "file_extension": ".kt",
   "pygments_lexer": "kotlin",
   "codemirror_mode": "text/x-kotlin",
   "nbconvert_exporter": ""
  },
  "ktnbPluginMetadata": {
   "projectDependencies": [
    "aoc-2024.main"
   ],
   "projectLibraries": false
  }
 },
 "nbformat": 4,
 "nbformat_minor": 0
}
