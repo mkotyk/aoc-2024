{
 "cells": [
  {
   "metadata": {},
   "cell_type": "markdown",
   "source": [
    "# Day 23: LAN Party\n",
    "\n",
    "### Part 1\n",
    "\n",
    "As The Historians wander around a secure area at Easter Bunny HQ, you come across posters for a LAN party scheduled for today! Maybe you can find it; you connect to a nearby datalink port and download a map of the local network (your puzzle input).\n",
    "\n",
    "The network map provides a list of every connection between two computers. For example:\n",
    "\n",
    "```\n",
    "kh-tc\n",
    "qp-kh\n",
    "de-cg\n",
    "ka-co\n",
    "yn-aq\n",
    "qp-ub\n",
    "cg-tb\n",
    "vc-aq\n",
    "tb-ka\n",
    "wh-tc\n",
    "yn-cg\n",
    "kh-ub\n",
    "ta-co\n",
    "de-co\n",
    "tc-td\n",
    "tb-wq\n",
    "wh-td\n",
    "ta-ka\n",
    "td-qp\n",
    "aq-cg\n",
    "wq-ub\n",
    "ub-vc\n",
    "de-ta\n",
    "wq-aq\n",
    "wq-vc\n",
    "wh-yn\n",
    "ka-de\n",
    "kh-ta\n",
    "co-tc\n",
    "wh-qp\n",
    "tb-vc\n",
    "td-yn\n",
    "```\n",
    "\n",
    "Each line of text in the network map represents a single connection; the line kh-tc represents a connection between the computer named kh and the computer named tc. Connections aren't directional; tc-kh would mean exactly the same thing.\n",
    "\n",
    "LAN parties typically involve multiplayer games, so maybe you can locate it by finding groups of connected computers. Start by looking for sets of three computers where each computer in the set is connected to the other two computers.\n",
    "\n",
    "In this example, there are 12 such sets of three inter-connected computers:\n",
    "\n",
    "```\n",
    "aq,cg,yn\n",
    "aq,vc,wq\n",
    "co,de,ka\n",
    "co,de,ta\n",
    "co,ka,ta\n",
    "de,ka,ta\n",
    "kh,qp,ub\n",
    "qp,td,wh\n",
    "tb,vc,wq\n",
    "tc,td,wh\n",
    "td,wh,yn\n",
    "ub,vc,wq\n",
    "```\n",
    "\n",
    "If the Chief Historian is here, and he's at the LAN party, it would be best to know that right away. You're pretty sure his computer's name starts with t, so consider only sets of three computers where at least one computer's name starts with t. That narrows the list down to 7 sets of three inter-connected computers:\n",
    "\n",
    "```\n",
    "co,de,ta\n",
    "co,ka,ta\n",
    "de,ka,ta\n",
    "qp,td,wh\n",
    "tb,vc,wq\n",
    "tc,td,wh\n",
    "td,wh,yn\n",
    "```\n",
    "\n",
    "Find all the sets of three inter-connected computers. How many contain at least one computer with a name that starts with t?\n"
   ]
  },
  {
   "metadata": {
    "ExecuteTime": {
     "end_time": "2024-12-23T14:49:27.787565Z",
     "start_time": "2024-12-23T14:49:27.513315Z"
    }
   },
   "cell_type": "code",
   "source": [
    "import com.psyndicate.aoc.*\n",
    "import kotlin.test.assertEquals\n",
    "\n",
    "typealias Node = String\n",
    "\n",
    "fun parseInput(input: String): Map<Node, Set<Node>> = buildMap {\n",
    "    input.split(\"\\n\").forEach { line ->\n",
    "        line.split(\"-\").let { (a, b) ->\n",
    "            this[a] = (this[a] ?: emptySet()) + b\n",
    "            this[b] = (this[b] ?: emptySet()) + a\n",
    "        }\n",
    "    }\n",
    "}\n",
    "\n",
    "fun findLinks(network: Map<Node, Set<Node>>, limit: Int): Set<List<Node>> = buildSet {\n",
    "    fun recurse(start: Node, group: Set<Node> = emptySet()) {\n",
    "        group.sorted().takeUnless { it in this }?.also { add(it) }?.takeIf { it.size < limit } ?: return\n",
    "        network.getValue(start).filter { it !in group && network[it]!!.containsAll(group) }\n",
    "            .forEach { recurse(it, group + it) }\n",
    "    }\n",
    "    network.keys.forEach { recurse(it, setOf(it)) }\n",
    "}\n",
    "\n",
    "fun calculatePart1(input: String): Int {\n",
    "    val network = parseInput(input)\n",
    "    return findLinks(network, limit = 3).filter { it.size == 3 }\n",
    "        .count { group -> group.any { node -> node.startsWith('t') } }\n",
    "}\n",
    "\n",
    "val testInput =\n",
    "    \"\"\"\n",
    "    kh-tc\n",
    "    qp-kh\n",
    "    de-cg\n",
    "    ka-co\n",
    "    yn-aq\n",
    "    qp-ub\n",
    "    cg-tb\n",
    "    vc-aq\n",
    "    tb-ka\n",
    "    wh-tc\n",
    "    yn-cg\n",
    "    kh-ub\n",
    "    ta-co\n",
    "    de-co\n",
    "    tc-td\n",
    "    tb-wq\n",
    "    wh-td\n",
    "    ta-ka\n",
    "    td-qp\n",
    "    aq-cg\n",
    "    wq-ub\n",
    "    ub-vc\n",
    "    de-ta\n",
    "    wq-aq\n",
    "    wq-vc\n",
    "    wh-yn\n",
    "    ka-de\n",
    "    kh-ta\n",
    "    co-tc\n",
    "    wh-qp\n",
    "    tb-vc\n",
    "    td-yn\n",
    "    \"\"\".trimIndent()\n",
    "\n",
    "val testInputPart1Result = calculatePart1(testInput)\n",
    "DISPLAY(\"Test Part 1: ${testInputPart1Result}\")\n",
    "assertEquals(7, testInputPart1Result)\n",
    "\n",
    "val puzzleInput = readResourceAsText(\"/day23/input.txt\")\n",
    "val part1Result = calculatePart1(puzzleInput)\n",
    "DISPLAY(\"Part 1: ${part1Result}\")\n",
    "assertEquals(1467, part1Result)"
   ],
   "outputs": [
    {
     "data": {
      "text/plain": [
       "Test Part 1: 7"
      ]
     },
     "metadata": {},
     "output_type": "display_data"
    },
    {
     "data": {
      "text/plain": [
       "Part 1: 1467"
      ]
     },
     "metadata": {},
     "output_type": "display_data"
    }
   ],
   "execution_count": 8
  },
  {
   "metadata": {},
   "cell_type": "markdown",
   "source": [
    "### Part 2\n",
    "\n",
    "There are still way too many results to go through them all. You'll have to find the LAN party another way and go there yourself.\n",
    "\n",
    "Since it doesn't seem like any employees are around, you figure they must all be at the LAN party. If that's true, the LAN party will be the largest set of computers that are all connected to each other. That is, for each computer at the LAN party, that computer will have a connection to every other computer at the LAN party.\n",
    "\n",
    "In the above example, the largest set of computers that are all connected to each other is made up of co, de, ka, and ta. Each computer in this set has a connection to every other computer in the set:\n",
    "\n",
    "```\n",
    "ka-co\n",
    "ta-co\n",
    "de-co\n",
    "ta-ka\n",
    "de-ta\n",
    "ka-de\n",
    "```\n",
    "\n",
    "The LAN party posters say that the password to get into the LAN party is the name of every computer at the LAN party, sorted alphabetically, then joined together with commas. (The people running the LAN party are clearly a bunch of nerds.) In this example, the password would be co,de,ka,ta.\n",
    "\n",
    "What is the password to get into the LAN party?"
   ]
  },
  {
   "metadata": {
    "ExecuteTime": {
     "end_time": "2024-12-23T14:53:19.969449Z",
     "start_time": "2024-12-23T14:53:18.809952Z"
    }
   },
   "cell_type": "code",
   "source": [
    "fun calculatePart2(input: String): String {\n",
    "    val network = parseInput(input)\n",
    "    return findLinks(network, limit = Int.MAX_VALUE).maxBy { it.size }.sorted().joinToString(\",\")\n",
    "\n",
    "}\n",
    "\n",
    "val testInputPart2Result = calculatePart2(testInput)\n",
    "DISPLAY(\"Test Part 2: ${testInputPart2Result}\")\n",
    "assertEquals(\"co,de,ka,ta\", testInputPart2Result)\n",
    "\n",
    "val part2Result = calculatePart2(puzzleInput)\n",
    "DISPLAY(\"Part 2: ${part2Result}\")\n",
    "assertEquals(\"di,gs,jw,kz,md,nc,qp,rp,sa,ss,uk,xk,yn\", part2Result)"
   ],
   "outputs": [
    {
     "data": {
      "text/plain": [
       "Test Part 2: co,de,ka,ta"
      ]
     },
     "metadata": {},
     "output_type": "display_data"
    },
    {
     "data": {
      "text/plain": [
       "Part 2: di,gs,jw,kz,md,nc,qp,rp,sa,ss,uk,xk,yn"
      ]
     },
     "metadata": {},
     "output_type": "display_data"
    }
   ],
   "execution_count": 12
  }
 ],
 "metadata": {
  "kernelspec": {
   "display_name": "Kotlin",
   "language": "kotlin",
   "name": "kotlin"
  },
  "language_info": {
   "name": "kotlin",
   "version": "1.9.23",
   "mimetype": "text/x-kotlin",
   "file_extension": ".kt",
   "pygments_lexer": "kotlin",
   "codemirror_mode": "text/x-kotlin",
   "nbconvert_exporter": ""
  },
  "ktnbPluginMetadata": {
   "projectDependencies": [
    "aoc-2024.main"
   ],
   "projectLibraries": false
  }
 },
 "nbformat": 4,
 "nbformat_minor": 0
}
