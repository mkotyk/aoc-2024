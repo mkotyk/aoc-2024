{
 "cells": [
  {
   "metadata": {},
   "cell_type": "markdown",
   "source": [
    "# Day 1\n",
    "\n",
    "### Part 1\n"
   ]
  },
  {
   "metadata": {},
   "cell_type": "code",
   "source": [
    "import com.psyndicate.aoc.parseIntegers\n",
    "import com.psyndicate.aoc.readResourceAsText\n",
    "import com.psyndicate.aoc.toPair\n",
    "import com.psyndicate.aoc.unzip\n",
    "import kotlin.test.assertEquals\n",
    "\n",
    "val testInput =\n",
    "    \"\"\"\n",
    "    \"\"\".trimIndent()\n",
    "\n",
    "fun calculatePart1(input: String): Int {\n",
    "    return -1\n",
    "}\n",
    "\n",
    "val testInputPart1Result = calculatePart1(testInput)\n",
    "DISPLAY(\"Test Part 1: ${testInputPart1Result}\")\n",
    "assertEquals(0, testInputPart1Result)\n",
    "\n",
    "val puzzleInput = readResourceAsText(\"/day1/input.txt\")\n",
    "val part1Result = calculatePart1(puzzleInput)\n",
    "DISPLAY(\"Part 1: ${part1Result}\")\n",
    "assertEquals(0, part1Result)"
   ],
   "outputs": [],
   "execution_count": null
  },
  {
   "metadata": {},
   "cell_type": "markdown",
   "source": "### Part 2"
  },
  {
   "metadata": {},
   "cell_type": "code",
   "source": [
    "fun calculatePart2(input: String): Int {\n",
    "    return -1\n",
    "}\n",
    "\n",
    "val testInputPart2Result = calculatePart2(testInput)\n",
    "DISPLAY(\"Test Part 2: ${testInputPart2Result}\")\n",
    "assertEquals(0, testInputPart2Result)\n",
    "\n",
    "val part2Result = calculatePart2(puzzleInput)\n",
    "DISPLAY(\"Part 2: ${part2Result}\")\n",
    "assertEquals(0, part2Result)"
   ],
   "outputs": [],
   "execution_count": null
  }
 ],
 "metadata": {
  "kernelspec": {
   "display_name": "Kotlin",
   "language": "kotlin",
   "name": "kotlin"
  },
  "language_info": {
   "name": "kotlin",
   "version": "1.9.23",
   "mimetype": "text/x-kotlin",
   "file_extension": ".kt",
   "pygments_lexer": "kotlin",
   "codemirror_mode": "text/x-kotlin",
   "nbconvert_exporter": ""
  },
  "ktnbPluginMetadata": {
   "projectDependencies": [
    "aoc-2024.main"
   ],
   "projectLibraries": false
  }
 },
 "nbformat": 4,
 "nbformat_minor": 0
}
