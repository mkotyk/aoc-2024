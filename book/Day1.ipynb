{
 "cells": [
  {
   "metadata": {},
   "cell_type": "markdown",
   "source": [
    "# Day 1: Historian Hysteria\n",
    "\n",
    "### Part 1\n",
    "The Chief Historian is always present for the big Christmas sleigh launch, but nobody has seen him in months! Last anyone heard, he was visiting locations that are historically significant to the North Pole; a group of Senior Historians has asked you to accompany them as they check the places they think he was most likely to visit.\n",
    "\n",
    "As each location is checked, they will mark it on their list with a star. They figure the Chief Historian must be in one of the first fifty places they'll look, so in order to save Christmas, you need to help them get fifty stars on their list before Santa takes off on December 25th.\n",
    "\n",
    "Collect stars by solving puzzles. Two puzzles will be made available on each day in the Advent calendar; the second puzzle is unlocked when you complete the first. Each puzzle grants one star. Good luck!\n",
    "\n",
    "You haven't even left yet and the group of Elvish Senior Historians has already hit a problem: their list of locations to check is currently empty. Eventually, someone decides that the best place to check first would be the Chief Historian's office.\n",
    "\n",
    "Upon pouring into the office, everyone confirms that the Chief Historian is indeed nowhere to be found. Instead, the Elves discover an assortment of notes and lists of historically significant locations! This seems to be the planning the Chief Historian was doing before he left. Perhaps these notes can be used to determine which locations to search?\n",
    "\n",
    "Throughout the Chief's office, the historically significant locations are listed not by name but by a unique number called the location ID. To make sure they don't miss anything, The Historians split into two groups, each searching the office and trying to create their own complete list of location IDs.\n",
    "\n",
    "There's just one problem: by holding the two lists up side by side (your puzzle input), it quickly becomes clear that the lists aren't very similar. Maybe you can help The Historians reconcile their lists?\n",
    "\n",
    "For example:\n",
    "|A|B|\n",
    "|-|-|\n",
    "|3|4|\n",
    "|4|3|\n",
    "|2|5|\n",
    "|1|3|\n",
    "|3|9|\n",
    "|3|3|\n",
    "\n",
    "Maybe the lists are only off by a small amount! To find out, pair up the numbers and measure how far apart they are. Pair up the smallest number in the left list with the smallest number in the right list, then the second-smallest left number with the second-smallest right number, and so on.\n",
    "\n",
    "Within each pair, figure out how far apart the two numbers are; you'll need to add up all of those distances. For example, if you pair up a 3 from the left list with a 7 from the right list, the distance apart is 4; if you pair up a 9 with a 3, the distance apart is 6.\n",
    "\n",
    "In the example list above, the pairs and distances would be as follows:\n",
    "\n",
    "- The smallest number in the left list is 1, and the smallest number in the right list is 3. The distance between them is 2.\n",
    "- The second-smallest number in the left list is 2, and the second-smallest number in the right list is another 3. The distance between them is 1.\n",
    "- The third-smallest number in both lists is 3, so the distance between them is 0.\n",
    "- The next numbers to pair up are 3 and 4, a distance of 1.\n",
    "- The fifth-smallest numbers in each list are 3 and 5, a distance of 2.\n",
    "- Finally, the largest number in the left list is 4, while the largest number in the right list is 9; these are a distance 5 apart.\n",
    "\n",
    "To find the total distance between the left list and the right list, add up the distances between all of the pairs you found. In the example above, this is 2 + 1 + 0 + 1 + 2 + 5, a total distance of 11!\n",
    "\n",
    "Your actual left and right lists contain many location IDs. What is the total distance between your lists?\n",
    "\n",
    "\n"
   ]
  },
  {
   "metadata": {
    "ExecuteTime": {
     "end_time": "2024-12-02T16:29:51.613036Z",
     "start_time": "2024-12-02T16:29:51.497884Z"
    }
   },
   "cell_type": "code",
   "source": [
    "import com.psyndicate.aoc.readResourceAsText\n",
    "import com.psyndicate.aoc.unzip\n",
    "import com.psyndicate.aoc.parseIntegers\n",
    "import com.psyndicate.aoc.toPair\n",
    "import kotlin.test.assertEquals\n",
    "\n",
    "val testInput =\n",
    "    \"\"\"\n",
    "    3   4\n",
    "    4   3\n",
    "    2   5\n",
    "    1   3\n",
    "    3   9\n",
    "    3   3\n",
    "    \"\"\".trimIndent()\n",
    "\n",
    "fun parseIntegerLists(input: String): Pair<List<Int>, List<Int>> =\n",
    "    input.split('\\n').unzip { it.parseIntegers().take(2).toPair() }\n",
    "\n",
    "fun calculatePart1(input: String): Int {\n",
    "    val (listA, listB) = parseIntegerLists(input)\n",
    "    return listA.sorted().zip(listB.sorted()) { a, b -> abs(a - b) }.sum()\n",
    "}\n",
    "\n",
    "val testInputPart1Result = calculatePart1(testInput)\n",
    "println(\"Test Part 1: ${testInputPart1Result}\")\n",
    "assertEquals(11, testInputPart1Result)\n",
    "\n",
    "val puzzleInput = readResourceAsText(\"/day1/input.txt\")\n",
    "val puzzleInputPart1Result = calculatePart1(puzzleInput)\n",
    "println(\"Part 1: ${puzzleInputPart1Result}\")\n",
    "assertEquals(2742123, puzzleInputPart1Result)"
   ],
   "outputs": [
    {
     "name": "stdout",
     "output_type": "stream",
     "text": [
      "Test Part 1: 11\n",
      "Part 1: 2742123\n"
     ]
    }
   ],
   "execution_count": 12
  },
  {
   "metadata": {},
   "cell_type": "markdown",
   "source": [
    "### Part 2\n",
    "\n",
    "Your analysis only confirmed what everyone feared: the two lists of location IDs are indeed very different.\n",
    "\n",
    "Or are they?\n",
    "\n",
    "The Historians can't agree on which group made the mistakes or how to read most of the Chief's handwriting, but in the commotion you notice an interesting detail: a lot of location IDs appear in both lists! Maybe the other numbers aren't location IDs at all but rather misinterpreted handwriting.\n",
    "\n",
    "This time, you'll need to figure out exactly how often each number from the left list appears in the right list. Calculate a total similarity score by adding up each number in the left list after multiplying it by the number of times that number appears in the right list.\n",
    "\n",
    "Here are the same example lists again:\n",
    "\n",
    "|A|B|\n",
    "|-|-|\n",
    "|3|4|\n",
    "|4|3|\n",
    "|2|5|\n",
    "|1|3|\n",
    "|3|9|\n",
    "|3|3|\n",
    "\n",
    "For these example lists, here is the process of finding the similarity score:\n",
    "\n",
    "- The first number in the left list is 3. It appears in the right list three times, so the similarity score increases by 3 * 3 = 9.\n",
    "- The second number in the left list is 4. It appears in the right list once, so the similarity score increases by 4 * 1 = 4.\n",
    "- The third number in the left list is 2. It does not appear in the right list, so the similarity score does not increase (2 * 0 = 0).\n",
    "- The fourth number, 1, also does not appear in the right list.\n",
    "- The fifth number, 3, appears in the right list three times; the similarity score increases by 9.\n",
    "- The last number, 3, appears in the right list three times; the similarity score again increases by 9.\n",
    "\n",
    "So, for these example lists, the similarity score at the end of this process is 31 (9 + 4 + 0 + 0 + 9 + 9).\n",
    "\n",
    "Once again consider your left and right lists. What is their similarity score?\n",
    "\n"
   ]
  },
  {
   "metadata": {
    "ExecuteTime": {
     "end_time": "2024-12-02T16:29:51.728063Z",
     "start_time": "2024-12-02T16:29:51.649260Z"
    }
   },
   "cell_type": "code",
   "source": [
    "import com.psyndicate.aoc.readResourceAsText\n",
    "\n",
    "fun calculatePart2(input: String): Int {\n",
    "    val (listA, listB) = parseIntegerLists(input)\n",
    "    return listA.fold(0) { initial, a -> initial + a * listB.count { b -> a == b } }\n",
    "}\n",
    "\n",
    "val testInputPart2Result = calculatePart2(testInput)\n",
    "println(\"Test Part 2: ${testInputPart2Result}\")\n",
    "assertEquals(31, testInputPart2Result)\n",
    "\n",
    "val puzzleInputPart2Result = calculatePart2(puzzleInput)\n",
    "println(\"Part 2: ${puzzleInputPart2Result}\")\n",
    "assertEquals(21328497, puzzleInputPart2Result)\n"
   ],
   "outputs": [
    {
     "name": "stdout",
     "output_type": "stream",
     "text": [
      "Test Part 2: 31\n",
      "Part 2: 21328497\n"
     ]
    }
   ],
   "execution_count": 13
  }
 ],
 "metadata": {
  "kernelspec": {
   "display_name": "Kotlin",
   "language": "kotlin",
   "name": "kotlin"
  },
  "language_info": {
   "name": "kotlin",
   "version": "1.9.23",
   "mimetype": "text/x-kotlin",
   "file_extension": ".kt",
   "pygments_lexer": "kotlin",
   "codemirror_mode": "text/x-kotlin",
   "nbconvert_exporter": ""
  },
  "ktnbPluginMetadata": {
   "projectDependencies": [
    "aoc-2024.main"
   ],
   "projectLibraries": false
  }
 },
 "nbformat": 4,
 "nbformat_minor": 0
}
