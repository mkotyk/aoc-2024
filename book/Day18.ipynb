{
 "cells": [
  {
   "metadata": {},
   "cell_type": "markdown",
   "source": [
    "# Day 18: RAM Run\n",
    "\n",
    "### Part 1\n",
    "\n",
    "You and The Historians look a lot more pixelated than you remember. You're inside a computer at the North Pole!\n",
    "\n",
    "Just as you're about to check out your surroundings, a program runs up to you. \"This region of memory isn't safe! The User misunderstood what a pushdown automaton is and their algorithm is pushing whole bytes down on top of us! Run!\"\n",
    "\n",
    "The algorithm is fast - it's going to cause a byte to fall into your memory space once every nanosecond! Fortunately, you're faster, and by quickly scanning the algorithm, you create a list of which bytes will fall (your puzzle input) in the order they'll land in your memory space.\n",
    "\n",
    "Your memory space is a two-dimensional grid with coordinates that range from 0 to 70 both horizontally and vertically. However, for the sake of example, suppose you're on a smaller grid with coordinates that range from 0 to 6 and the following list of incoming byte positions:\n",
    "\n",
    "```\n",
    "5,4\n",
    "4,2\n",
    "4,5\n",
    "3,0\n",
    "2,1\n",
    "6,3\n",
    "2,4\n",
    "1,5\n",
    "0,6\n",
    "3,3\n",
    "2,6\n",
    "5,1\n",
    "1,2\n",
    "5,5\n",
    "2,5\n",
    "6,5\n",
    "1,4\n",
    "0,4\n",
    "6,4\n",
    "1,1\n",
    "6,1\n",
    "1,0\n",
    "0,5\n",
    "1,6\n",
    "2,0\n",
    "```\n",
    "\n",
    "Each byte position is given as an X,Y coordinate, where X is the distance from the left edge of your memory space and Y is the distance from the top edge of your memory space.\n",
    "\n",
    "You and The Historians are currently in the top left corner of the memory space (at 0,0) and need to reach the exit in the bottom right corner (at 70,70 in your memory space, but at 6,6 in this example). You'll need to simulate the falling bytes to plan out where it will be safe to run; for now, simulate just the first few bytes falling into your memory space.\n",
    "\n",
    "As bytes fall into your memory space, they make that coordinate corrupted. Corrupted memory coordinates cannot be entered by you or The Historians, so you'll need to plan your route carefully. You also cannot leave the boundaries of the memory space; your only hope is to reach the exit.\n",
    "\n",
    "In the above example, if you were to draw the memory space after the first 12 bytes have fallen (using . for safe and # for corrupted), it would look like this:\n",
    "\n",
    "```\n",
    "...#...\n",
    "..#..#.\n",
    "....#..\n",
    "...#..#\n",
    "..#..#.\n",
    ".#..#..\n",
    "#.#....\n",
    "```\n",
    "\n",
    "You can take steps up, down, left, or right. After just 12 bytes have corrupted locations in your memory space, the shortest path from the top left corner to the exit would take 22 steps. Here (marked with O) is one such path:\n",
    "\n",
    "```\n",
    "OO.#OOO\n",
    ".O#OO#O\n",
    ".OOO#OO\n",
    "...#OO#\n",
    "..#OO#.\n",
    ".#.O#..\n",
    "#.#OOOO\n",
    "```\n",
    "\n",
    "Simulate the first kilobyte (1024 bytes) falling onto your memory space. Afterward, what is the minimum number of steps needed to reach the exit?\n"
   ]
  },
  {
   "metadata": {
    "ExecuteTime": {
     "end_time": "2024-12-18T14:28:28.107335Z",
     "start_time": "2024-12-18T14:28:27.980716Z"
    }
   },
   "cell_type": "code",
   "source": [
    "import com.psyndicate.aoc.*\n",
    "import java.util.PriorityQueue\n",
    "import kotlin.test.*\n",
    "\n",
    "data class Path(val position: Coord, val steps: Int)\n",
    "\n",
    "fun search(\n",
    "    corruption: Set<Coord>,\n",
    "    mazeSize: Int,\n",
    "    position: Coord,\n",
    "    goal: Coord\n",
    "): Int {\n",
    "    var minSteps = Int.MAX_VALUE\n",
    "    val seen = mutableMapOf<Coord, Int>()\n",
    "    val queue = PriorityQueue<Path>(compareBy { it.steps })\n",
    "    queue.add(Path(position, 0))\n",
    "    while (queue.isNotEmpty()) {\n",
    "        queue.addAll(\n",
    "            queue.poll()\n",
    "                .takeIf { entry ->\n",
    "                    val location = entry.position\n",
    "                    val steps = entry.steps\n",
    "                    val bestScore = seen.getOrDefault(location, Int.MAX_VALUE)\n",
    "                    if (steps < bestScore) seen[location] = steps\n",
    "                    if (location == goal) {\n",
    "                        if (steps >= minSteps) {\n",
    "                            // Scores are getting worse\n",
    "                            return@search minSteps\n",
    "                        }\n",
    "                        minSteps = steps\n",
    "                    }\n",
    "                    steps < bestScore\n",
    "                }\n",
    "                ?.let { entry ->\n",
    "                    CardinalDirections\n",
    "                        .map { entry.position + it }\n",
    "                        .filter { it !in corruption && it.x in 0..mazeSize && it.y in 0..mazeSize }\n",
    "                        .map { Path(it, entry.steps + 1) }\n",
    "                }\n",
    "                ?: emptyList()\n",
    "        )\n",
    "\n",
    "    }\n",
    "    return minSteps\n",
    "}\n",
    "\n",
    "fun parseInput(input: String): List<Coord> =\n",
    "    input.split('\\n').map { it.split(',').map { it.toInt() }.let { Coord(it[0], it[1]) } }\n",
    "\n",
    "fun calculatePart1(input: String, mazeSize: Int, amount: Int): Int =\n",
    "    search(parseInput(input).take(amount).toSet(), mazeSize, Coord(0, 0), Coord(mazeSize, mazeSize))\n",
    "\n",
    "val testInput =\n",
    "    \"\"\"\n",
    "    5,4\n",
    "    4,2\n",
    "    4,5\n",
    "    3,0\n",
    "    2,1\n",
    "    6,3\n",
    "    2,4\n",
    "    1,5\n",
    "    0,6\n",
    "    3,3\n",
    "    2,6\n",
    "    5,1\n",
    "    1,2\n",
    "    5,5\n",
    "    2,5\n",
    "    6,5\n",
    "    1,4\n",
    "    0,4\n",
    "    6,4\n",
    "    1,1\n",
    "    6,1\n",
    "    1,0\n",
    "    0,5\n",
    "    1,6\n",
    "    2,0\n",
    "    \"\"\".trimIndent()\n",
    "\n",
    "val testInputPart1Result = calculatePart1(testInput, 6, 12)\n",
    "DISPLAY(\"Test Part 1: ${testInputPart1Result}\")\n",
    "assertEquals(22, testInputPart1Result)\n",
    "\n",
    "val puzzleInput = readResourceAsText(\"/day18/input.txt\")\n",
    "val part1Result = calculatePart1(puzzleInput, 70, 1024)\n",
    "DISPLAY(\"Part 1: ${part1Result}\")\n",
    "assertEquals(348, part1Result)"
   ],
   "outputs": [
    {
     "data": {
      "text/plain": [
       "Test Part 1: 22"
      ]
     },
     "metadata": {},
     "output_type": "display_data"
    },
    {
     "data": {
      "text/plain": [
       "Part 1: 348"
      ]
     },
     "metadata": {},
     "output_type": "display_data"
    }
   ],
   "execution_count": 77
  },
  {
   "metadata": {},
   "cell_type": "markdown",
   "source": [
    "### Part 2\n",
    "\n",
    "The Historians aren't as used to moving around in this pixelated universe as you are. You're afraid they're not going to be fast enough to make it to the exit before the path is completely blocked.\n",
    "\n",
    "To determine how fast everyone needs to go, you need to determine the first byte that will cut off the path to the exit.\n",
    "\n",
    "In the above example, after the byte at 1,1 falls, there is still a path to the exit:\n",
    "\n",
    "```\n",
    "O..#OOO\n",
    "O##OO#O\n",
    "O#OO#OO\n",
    "OOO#OO#\n",
    "###OO##\n",
    ".##O###\n",
    "#.#OOOO\n",
    "```\n",
    "\n",
    "However, after adding the very next byte (at 6,1), there is no longer a path to the exit:\n",
    "\n",
    "```\n",
    "...#...\n",
    ".##..##\n",
    ".#..#..\n",
    "...#..#\n",
    "###..##\n",
    ".##.###\n",
    "#.#....\n",
    "```\n",
    "\n",
    "So, in this example, the coordinates of the first byte that prevents the exit from being reachable are 6,1.\n",
    "\n",
    "Simulate more of the bytes that are about to corrupt your memory space. What are the coordinates of the first byte that will prevent the exit from being reachable from your starting position? (Provide the answer as two integers separated by a comma with no other characters.)"
   ]
  },
  {
   "metadata": {
    "ExecuteTime": {
     "end_time": "2024-12-18T14:28:11.577622Z",
     "start_time": "2024-12-18T14:28:11.459114Z"
    }
   },
   "cell_type": "code",
   "source": [
    "fun calculatePart2(input: String, mazeSize: Int): String {\n",
    "    val corrupted = parseInput(input)\n",
    "    return (corrupted.size - 1 downTo 0).first { amount ->\n",
    "        search(corrupted.take(amount).toSet(), mazeSize, Coord(0, 0), Coord(mazeSize, mazeSize)) != Int.MAX_VALUE\n",
    "    }.let { \"${corrupted[it].x},${corrupted[it].y}\" }\n",
    "}\n",
    "\n",
    "val testInputPart2Result = calculatePart2(testInput, 6)\n",
    "DISPLAY(\"Test Part 2: ${testInputPart2Result}\")\n",
    "assertEquals(\"6,1\", testInputPart2Result)\n",
    "\n",
    "val part2Result = calculatePart2(puzzleInput, 70)\n",
    "DISPLAY(\"Part 2: ${part2Result}\")\n",
    "assertEquals(\"54,44\", part2Result)"
   ],
   "outputs": [
    {
     "data": {
      "text/plain": [
       "Test Part 2: 6,1"
      ]
     },
     "metadata": {},
     "output_type": "display_data"
    },
    {
     "data": {
      "text/plain": [
       "Part 2: 54,44"
      ]
     },
     "metadata": {},
     "output_type": "display_data"
    }
   ],
   "execution_count": 75
  },
  {
   "metadata": {},
   "cell_type": "code",
   "outputs": [],
   "execution_count": null,
   "source": ""
  }
 ],
 "metadata": {
  "kernelspec": {
   "display_name": "Kotlin",
   "language": "kotlin",
   "name": "kotlin"
  },
  "language_info": {
   "name": "kotlin",
   "version": "1.9.23",
   "mimetype": "text/x-kotlin",
   "file_extension": ".kt",
   "pygments_lexer": "kotlin",
   "codemirror_mode": "text/x-kotlin",
   "nbconvert_exporter": ""
  },
  "ktnbPluginMetadata": {
   "projectDependencies": [
    "aoc-2024.main"
   ],
   "projectLibraries": false
  }
 },
 "nbformat": 4,
 "nbformat_minor": 0
}
