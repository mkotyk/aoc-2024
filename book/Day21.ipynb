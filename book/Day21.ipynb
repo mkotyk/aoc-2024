{
 "cells": [
  {
   "metadata": {},
   "cell_type": "markdown",
   "source": [
    "# Day 21: Keypad Conundrum\n",
    "\n",
    "### Part 1\n",
    "As you teleport onto Santa's Reindeer-class starship, The Historians begin to panic: someone from their search party is missing. A quick life-form scan by the ship's computer reveals that when the missing Historian teleported, he arrived in another part of the ship.\n",
    "\n",
    "The door to that area is locked, but the computer can't open it; it can only be opened by physically typing the door codes (your puzzle input) on the numeric keypad on the door.\n",
    "\n",
    "The numeric keypad has four rows of buttons: 789, 456, 123, and finally an empty gap followed by 0A. Visually, they are arranged like this:\n",
    "\n",
    "```\n",
    "+---+---+---+\n",
    "| 7 | 8 | 9 |\n",
    "+---+---+---+\n",
    "| 4 | 5 | 6 |\n",
    "+---+---+---+\n",
    "| 1 | 2 | 3 |\n",
    "+---+---+---+\n",
    "    | 0 | A |\n",
    "    +---+---+\n",
    "```\n",
    "\n",
    "Unfortunately, the area outside the door is currently depressurized and nobody can go near the door. A robot needs to be sent instead.\n",
    "\n",
    "The robot has no problem navigating the ship and finding the numeric keypad, but it's not designed for button pushing: it can't be told to push a specific button directly. Instead, it has a robotic arm that can be controlled remotely via a directional keypad.\n",
    "\n",
    "The directional keypad has two rows of buttons: a gap / ^ (up) / A (activate) on the first row and < (left) / v (down) / > (right) on the second row. Visually, they are arranged like this:\n",
    "\n",
    "```\n",
    "    +---+---+\n",
    "    | ^ | A |\n",
    "+---+---+---+\n",
    "| < | v | > |\n",
    "+---+---+---+\n",
    "```\n",
    "\n",
    "When the robot arrives at the numeric keypad, its robotic arm is pointed at the A button in the bottom right corner. After that, this directional keypad remote control must be used to maneuver the robotic arm: the up / down / left / right buttons cause it to move its arm one button in that direction, and the A button causes the robot to briefly move forward, pressing the button being aimed at by the robotic arm.\n",
    "\n",
    "For example, to make the robot type 029A on the numeric keypad, one sequence of inputs on the directional keypad you could use is:\n",
    "\n",
    "- < to move the arm from A (its initial position) to 0.\n",
    "- A to push the 0 button.\n",
    "- ^A to move the arm to the 2 button and push it.\n",
    "- >^^A to move the arm to the 9 button and push it.\n",
    "- vvvA to move the arm to the A button and push it.\n",
    "\n",
    "In total, there are three shortest possible sequences of button presses on this directional keypad that would cause the robot to type 029A: `<A^A>^^AvvvA`, `<A^A^>^AvvvA`, and `<A^A^^>AvvvA`.\n",
    "\n",
    "Unfortunately, the area containing this directional keypad remote control is currently experiencing high levels of radiation and nobody can go near it. A robot needs to be sent instead.\n",
    "\n",
    "When the robot arrives at the directional keypad, its robot arm is pointed at the A button in the upper right corner. After that, a second, different directional keypad remote control is used to control this robot (in the same way as the first robot, except that this one is typing on a directional keypad instead of a numeric keypad).\n",
    "\n",
    "There are multiple shortest possible sequences of directional keypad button presses that would cause this robot to tell the first robot to type 029A on the door. One such sequence is `v<<A>>^A<A>AvA<^AA>A<vAAA>^A`.\n",
    "\n",
    "Unfortunately, the area containing this second directional keypad remote control is currently -40 degrees! Another robot will need to be sent to type on that directional keypad, too.\n",
    "\n",
    "There are many shortest possible sequences of directional keypad button presses that would cause this robot to tell the second robot to tell the first robot to eventually type 029A on the door. One such sequence is `<vA<AA>>^AvAA<^A>A<v<A>>^AvA^A<vA>^A<v<A>^A>AAvA^A<v<A>A>^AAAvA<^A>A`.\n",
    "\n",
    "Unfortunately, the area containing this third directional keypad remote control is currently full of Historians, so no robots can find a clear path there. Instead, you will have to type this sequence yourself.\n",
    "\n",
    "Were you to choose this sequence of button presses, here are all of the buttons that would be pressed on your directional keypad, the two robots' directional keypads, and the numeric keypad:\n",
    "\n",
    "```\n",
    "<vA<AA>>^AvAA<^A>A<v<A>>^AvA^A<vA>^A<v<A>^A>AAvA^A<v<A>A>^AAAvA<^A>A\n",
    "v<<A>>^A<A>AvA<^AA>A<vAAA>^A\n",
    "<A^A>^^AvvvA\n",
    "029A\n",
    "```\n",
    "\n",
    "In summary, there are the following keypads:\n",
    "\n",
    "- One directional keypad that you are using.\n",
    "- Two directional keypads that robots are using.\n",
    "- One numeric keypad (on a door) that a robot is using.\n",
    "\n",
    "It is important to remember that these robots are not designed for button pushing. In particular, if a robot arm is ever aimed at a gap where no button is present on the keypad, even for an instant, the robot will panic unrecoverably. So, don't do that. All robots will initially aim at the keypad's A key, wherever it is.\n",
    "\n",
    "To unlock the door, five codes will need to be typed on its numeric keypad. For example:\n",
    "\n",
    "```\n",
    "029A\n",
    "980A\n",
    "179A\n",
    "456A\n",
    "379A\n",
    "```\n",
    "\n",
    "For each of these, here is a shortest sequence of button presses you could type to cause the desired code to be typed on the numeric keypad:\n",
    "\n",
    "```\n",
    "029A: <vA<AA>>^AvAA<^A>A<v<A>>^AvA^A<vA>^A<v<A>^A>AAvA^A<v<A>A>^AAAvA<^A>A\n",
    "980A: <v<A>>^AAAvA^A<vA<AA>>^AvAA<^A>A<v<A>A>^AAAvA<^A>A<vA>^A<A>A\n",
    "179A: <v<A>>^A<vA<A>>^AAvAA<^A>A<v<A>>^AAvA^A<vA>^AA<A>A<v<A>A>^AAAvA<^A>A\n",
    "456A: <v<A>>^AA<vA<A>>^AAvAA<^A>A<vA>^A<A>A<vA>^A<A>A<v<A>A>^AAvA<^A>A\n",
    "379A: <v<A>>^AvA^A<vA<AA>>^AAvA<^A>AAvA^A<vA>^AA<A>A<v<A>A>^AAAvA<^A>A\n",
    "```\n",
    "\n",
    "The Historians are getting nervous; the ship computer doesn't remember whether the missing Historian is trapped in the area containing a giant electromagnet or molten lava. You'll need to make sure that for each of the five codes, you find the shortest sequence of button presses necessary.\n",
    "\n",
    "The complexity of a single code (like 029A) is equal to the result of multiplying these two values:\n",
    "\n",
    "- The length of the shortest sequence of button presses you need to type on your directional keypad in order to cause the code to be typed on the numeric keypad; for 029A, this would be 68.\n",
    "- The numeric part of the code (ignoring leading zeroes); for 029A, this would be 29.\n",
    "\n",
    "In the above example, complexity of the five codes can be found by calculating 68 * 29, 60 * 980, 68 * 179, 64 * 456, and 64 * 379. Adding these together produces 126384.\n",
    "\n",
    "Find the fewest number of button presses you'll need to perform in order to cause the robot in front of the door to type each code. What is the sum of the complexities of the five codes on your list?\n",
    "\n",
    "\n"
   ]
  },
  {
   "metadata": {
    "ExecuteTime": {
     "end_time": "2024-12-22T15:49:31.049088Z",
     "start_time": "2024-12-22T15:49:30.803201Z"
    }
   },
   "cell_type": "code",
   "source": [
    "import com.psyndicate.aoc.*\n",
    "import com.psyndicate.aoc.Direction.*\n",
    "import kotlin.test.*\n",
    "\n",
    "val DirectionKeypad = mapOf(\n",
    "    '^' to Coord(1, 0),\n",
    "    'A' to Coord(2, 0),\n",
    "    'v' to Coord(1, 1),\n",
    "    '<' to Coord(0, 1),\n",
    "    '>' to Coord(2, 1)\n",
    ")\n",
    "\n",
    "val NumberKeypad = mapOf(\n",
    "    '7' to Coord(0, 0),\n",
    "    '8' to Coord(1, 0),\n",
    "    '9' to Coord(2, 0),\n",
    "    '4' to Coord(0, 1),\n",
    "    '5' to Coord(1, 1),\n",
    "    '6' to Coord(2, 1),\n",
    "    '1' to Coord(0, 2),\n",
    "    '2' to Coord(1, 2),\n",
    "    '3' to Coord(2, 2),\n",
    "    '0' to Coord(1, 3),\n",
    "    'A' to Coord(2, 3),\n",
    ")\n",
    "\n",
    "fun Map<Char, Coord>.move(segment: Pair<Char, Char>): String {\n",
    "    val start = this[segment.first] ?: error(\"Unknown key ${segment.first}\")\n",
    "    val end = this[segment.second] ?: error(\"Unknown key ${segment.second}\")\n",
    "\n",
    "    fun recurse(pos: Coord, acc: String): Sequence<String> = sequence {\n",
    "        if (pos == end) yield(acc + \"A\")\n",
    "        if (end.x < pos.x && (pos + LEFT) in this@move.values) yieldAll(recurse(pos + LEFT, \"$acc<\"))\n",
    "        if (end.y < pos.y && (pos + UP) in this@move.values) yieldAll(recurse(pos + UP, \"$acc^\"))\n",
    "        if (end.y > pos.y && (pos + DOWN) in this@move.values) yieldAll(recurse(pos + DOWN, \"${acc}v\"))\n",
    "        if (end.x > pos.x && (pos + RIGHT) in this@move.values) yieldAll(recurse(pos + RIGHT, \"$acc>\"))\n",
    "    }\n",
    "\n",
    "    return recurse(start, \"\").minBy { path -> path.zipWithNext().count { it.first != it.second } }\n",
    "}\n",
    "\n",
    "fun Map<Char, Coord>.type(presses: String): String =\n",
    "    \"A$presses\".windowed(size = 2).fold(\"\") { acc, it -> acc + move(it[0] to it[1]) }\n",
    "\n",
    "fun String.segmentFrequency(): Map<String, Long> =\n",
    "    removeSuffix(\"A\")\n",
    "        .split(\"A\")\n",
    "        .map { it + 'A' }\n",
    "        .groupingBy { it }\n",
    "        .eachCount()\n",
    "        .mapValues { it.value.toLong() }\n",
    "\n",
    "private fun String.minPresses(depth: Int): Long {\n",
    "    var segmentFrequency: Map<String, Long> = NumberKeypad.type(this).segmentFrequency()\n",
    "\n",
    "    repeat(depth) {\n",
    "        segmentFrequency = buildMap {\n",
    "            for ((segment, count) in segmentFrequency) {\n",
    "                for ((seg, times) in DirectionKeypad.type(segment).segmentFrequency()) {\n",
    "                    compute(seg) { _, old -> (old ?: 0) + count * times }\n",
    "                }\n",
    "            }\n",
    "        }\n",
    "    }\n",
    "\n",
    "    return segmentFrequency.entries.sumOf { it.key.length * it.value }\n",
    "}\n",
    "\n",
    "fun calculatePart1(input: String, robots: Int): Long {\n",
    "    return input.split('\\n').sumOf { code -> code.filter { it.isDigit() }.toLong() * code.minPresses(robots) }\n",
    "}\n",
    "\n",
    "val testInput =\n",
    "    \"\"\"\n",
    "    029A\n",
    "    980A\n",
    "    179A\n",
    "    456A\n",
    "    379A\n",
    "    \"\"\".trimIndent()\n",
    "\n",
    "val testInputPart1Result = calculatePart1(testInput, 2)\n",
    "DISPLAY(\"Test Part 1: ${testInputPart1Result}\")\n",
    "assertEquals(126384, testInputPart1Result)\n",
    "\n",
    "val puzzleInput = readResourceAsText(\"/day21/input.txt\")\n",
    "val part1Result = calculatePart1(puzzleInput, 2)\n",
    "DISPLAY(\"Part 1: ${part1Result}\")\n",
    "// 211246 too hight\n",
    "assertEquals(203814, part1Result)"
   ],
   "outputs": [
    {
     "data": {
      "text/plain": [
       "Test Part 1: 126384"
      ]
     },
     "metadata": {},
     "output_type": "display_data"
    },
    {
     "data": {
      "text/plain": [
       "Part 1: 203814"
      ]
     },
     "metadata": {},
     "output_type": "display_data"
    }
   ],
   "execution_count": 16
  },
  {
   "metadata": {},
   "cell_type": "markdown",
   "source": "### Part 2"
  },
  {
   "metadata": {
    "ExecuteTime": {
     "end_time": "2024-12-22T15:49:31.153093Z",
     "start_time": "2024-12-22T15:49:31.101456Z"
    }
   },
   "cell_type": "code",
   "source": [
    "val testInputPart2Result = calculatePart1(testInput, 25)\n",
    "DISPLAY(\"Test Part 2: ${testInputPart2Result}\")\n",
    "assertEquals(154115708116294, testInputPart2Result)\n",
    "\n",
    "val part2Result = calculatePart1(puzzleInput, 25)\n",
    "DISPLAY(\"Part 2: ${part2Result}\")\n",
    "assertEquals(248566068436630, part2Result)"
   ],
   "outputs": [
    {
     "data": {
      "text/plain": [
       "Test Part 2: 154115708116294"
      ]
     },
     "metadata": {},
     "output_type": "display_data"
    },
    {
     "data": {
      "text/plain": [
       "Part 2: 248566068436630"
      ]
     },
     "metadata": {},
     "output_type": "display_data"
    }
   ],
   "execution_count": 17
  }
 ],
 "metadata": {
  "kernelspec": {
   "display_name": "Kotlin",
   "language": "kotlin",
   "name": "kotlin"
  },
  "language_info": {
   "name": "kotlin",
   "version": "1.9.23",
   "mimetype": "text/x-kotlin",
   "file_extension": ".kt",
   "pygments_lexer": "kotlin",
   "codemirror_mode": "text/x-kotlin",
   "nbconvert_exporter": ""
  },
  "ktnbPluginMetadata": {
   "projectDependencies": [
    "aoc-2024.main"
   ],
   "projectLibraries": false
  }
 },
 "nbformat": 4,
 "nbformat_minor": 0
}
