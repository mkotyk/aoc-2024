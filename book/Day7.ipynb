{
 "cells": [
  {
   "metadata": {},
   "cell_type": "markdown",
   "source": [
    "# Day 7: Bridge Repair\n",
    "\n",
    "### Part 1\n",
    "\n",
    "The Historians take you to a familiar rope bridge over a river in the middle of a jungle. The Chief isn't on this side of the bridge, though; maybe he's on the other side?\n",
    "\n",
    "When you go to cross the bridge, you notice a group of engineers trying to repair it. (Apparently, it breaks pretty frequently.) You won't be able to cross until it's fixed.\n",
    "\n",
    "You ask how long it'll take; the engineers tell you that it only needs final calibrations, but some young elephants were playing nearby and stole all the operators from their calibration equations! They could finish the calibrations if only someone could determine which test values could possibly be produced by placing any combination of operators into their calibration equations (your puzzle input).\n",
    "\n",
    "For example:\n",
    "\n",
    "```\n",
    "190: 10 19\n",
    "3267: 81 40 27\n",
    "83: 17 5\n",
    "156: 15 6\n",
    "7290: 6 8 6 15\n",
    "161011: 16 10 13\n",
    "192: 17 8 14\n",
    "21037: 9 7 18 13\n",
    "292: 11 6 16 20\n",
    "```\n",
    "Each line represents a single equation. The test value appears before the colon on each line; it is your job to determine whether the remaining numbers can be combined with operators to produce the test value.\n",
    "\n",
    "Operators are always evaluated left-to-right, not according to precedence rules. Furthermore, numbers in the equations cannot be rearranged. Glancing into the jungle, you can see elephants holding two different types of operators: add (+) and multiply (*).\n",
    "\n",
    "Only three of the above equations can be made true by inserting operators:\n",
    "\n",
    "- 190: 10 19 has only one position that accepts an operator: between 10 and 19. Choosing + would give 29, but choosing * would give the test value (10 * 19 = 190).\n",
    "- 3267: 81 40 27 has two positions for operators. Of the four possible configurations of the operators, two cause the right side to match the test value: 81 + 40 * 27 and 81 * 40 + 27 both equal 3267 (when evaluated left-to-right)!\n",
    "- 292: 11 6 16 20 can be solved in exactly one way: 11 + 6 * 16 + 20.\n",
    "\n",
    "- The engineers just need the total calibration result, which is the sum of the test values from just the equations that could possibly be true. In the above example, the sum of the test values for the three equations listed above is 3749.\n",
    "\n",
    "Determine which equations could possibly be true. What is their total calibration result?\n",
    "\n"
   ]
  },
  {
   "metadata": {
    "ExecuteTime": {
     "end_time": "2024-12-07T17:42:10.937053322Z",
     "start_time": "2024-12-07T17:42:07.003915499Z"
    }
   },
   "cell_type": "code",
   "source": [
    "import com.psyndicate.aoc.*\n",
    "import kotlin.test.assertEquals\n",
    "\n",
    "val testInput =\n",
    "    \"\"\"\n",
    "    190: 10 19\n",
    "    3267: 81 40 27\n",
    "    83: 17 5\n",
    "    156: 15 6\n",
    "    7290: 6 8 6 15\n",
    "    161011: 16 10 13\n",
    "    192: 17 8 14\n",
    "    21037: 9 7 18 13\n",
    "    292: 11 6 16 20\n",
    "    \"\"\".trimIndent()\n",
    "\n",
    "enum class Operator {\n",
    "    ADD,\n",
    "    MULTIPLY,\n",
    "    CONCAT\n",
    "}\n",
    "\n",
    "data class Equation(\n",
    "    val result: Long,\n",
    "    val values: List<Int>,\n",
    "    val operators: List<Operator> = List(values.size - 1) { Operator.MULTIPLY }\n",
    ") {\n",
    "    fun calculate(): Long {\n",
    "        var lhs: Long = values.first().toLong()\n",
    "        for (index in 1 until values.size) {\n",
    "            lhs = when (operators[index - 1]) {\n",
    "                Operator.ADD -> lhs + values[index]\n",
    "                Operator.MULTIPLY -> lhs * values[index]\n",
    "                Operator.CONCAT -> lhs.concat(values[index])\n",
    "            }\n",
    "        }\n",
    "        return lhs\n",
    "    }\n",
    "\n",
    "    fun isCorrect(): Boolean = calculate() == result\n",
    "\n",
    "    fun permutateOperators(ops: List<Operator>, flipIndex: Int = 0): List<Equation> = if (isCorrect()) {\n",
    "        listOf(this)\n",
    "    } else {\n",
    "        if (flipIndex >= operators.size) {\n",
    "            emptyList()\n",
    "        } else {\n",
    "            ops.flatMap { op ->\n",
    "                copy(operators = operators.replaceAt(flipIndex) { op }).permutateOperators(ops, flipIndex + 1)\n",
    "            }\n",
    "        }\n",
    "    }\n",
    "\n",
    "    companion object {\n",
    "        fun parse(line: String): Equation {\n",
    "            val (result, values) = line.split(':')\n",
    "            return Equation(result.toLong(), values.parseIntegers())\n",
    "        }\n",
    "    }\n",
    "}\n",
    "\n",
    "fun calculatePart1(input: String): Long {\n",
    "    val equations = input.split('\\n').map(Equation::parse)\n",
    "    return equations\n",
    "        .flatMap { it.permutateOperators(listOf(Operator.ADD, Operator.MULTIPLY)) }\n",
    "        .associateBy { it.result to it.values }\n",
    "        .keys.sumOf { it.first }\n",
    "}\n",
    "\n",
    "val testInputResult = calculatePart1(testInput)\n",
    "println(\"Test Part 1: ${testInputResult}\")\n",
    "assertEquals(3749, testInputResult)\n",
    "\n",
    "val puzzleInput = readResourceAsText(\"/day7/input.txt\")\n",
    "val part1Result = calculatePart1(puzzleInput)\n",
    "println(\"Part 1: ${part1Result}\")\n",
    "assertEquals(3312271365652, part1Result)\n"
   ],
   "outputs": [
    {
     "name": "stdout",
     "output_type": "stream",
     "text": [
      "Test Part 1: 3749\n",
      "Part 1: 3312271365652\n"
     ]
    }
   ],
   "execution_count": 1
  },
  {
   "metadata": {},
   "cell_type": "markdown",
   "source": [
    "### Part 2\n",
    "\n",
    "The engineers seem concerned; the total calibration result you gave them is nowhere close to being within safety tolerances. Just then, you spot your mistake: some well-hidden elephants are holding a third type of operator.\n",
    "\n",
    "The concatenation operator (||) combines the digits from its left and right inputs into a single number. For example, 12 || 345 would become 12345. All operators are still evaluated left-to-right.\n",
    "\n",
    "Now, apart from the three equations that could be made true using only addition and multiplication, the above example has three more equations that can be made true by inserting operators:\n",
    "\n",
    "- 156: 15 6 can be made true through a single concatenation: 15 || 6 = 156.\n",
    "- 7290: 6 8 6 15 can be made true using 6 * 8 || 6 * 15.\n",
    "- 192: 17 8 14 can be made true using 17 || 8 + 14.\n",
    "\n",
    "Adding up all six test values (the three that could be made before using only + and * plus the new three that can now be made by also using ||) produces the new total calibration result of 11387.\n",
    "\n",
    "Using your new knowledge of elephant hiding spots, determine which equations could possibly be true. What is their total calibration result?"
   ]
  },
  {
   "metadata": {
    "ExecuteTime": {
     "end_time": "2024-12-07T17:42:27.700091816Z",
     "start_time": "2024-12-07T17:42:10.951826980Z"
    }
   },
   "cell_type": "code",
   "source": [
    "fun calculatePart2(input: String): Long {\n",
    "    val equations = input.split('\\n').map(Equation::parse)\n",
    "    return equations\n",
    "        .flatMap { it.permutateOperators(listOf(Operator.ADD, Operator.MULTIPLY, Operator.CONCAT)) }\n",
    "        .associateBy { it.result to it.values }\n",
    "        .keys.sumOf { it.first }\n",
    "}\n",
    "\n",
    "val testInputPart2Result = calculatePart2(testInput)\n",
    "println(\"Test Part 2: ${testInputPart2Result}\")\n",
    "assertEquals(11387, testInputPart2Result)\n",
    "\n",
    "val part2Result = calculatePart2(puzzleInput)\n",
    "println(\"Part 2: ${part2Result}\")\n",
    "assertEquals(509463489296712, part2Result)\n"
   ],
   "outputs": [
    {
     "name": "stdout",
     "output_type": "stream",
     "text": [
      "Test Part 2: 11387\n",
      "Part 2: 509463489296712\n"
     ]
    }
   ],
   "execution_count": 2
  }
 ],
 "metadata": {
  "kernelspec": {
   "display_name": "Kotlin",
   "language": "kotlin",
   "name": "kotlin"
  },
  "language_info": {
   "name": "kotlin",
   "version": "1.9.23",
   "mimetype": "text/x-kotlin",
   "file_extension": ".kt",
   "pygments_lexer": "kotlin",
   "codemirror_mode": "text/x-kotlin",
   "nbconvert_exporter": ""
  },
  "ktnbPluginMetadata": {
   "projectDependencies": [
    "aoc-2024.main"
   ],
   "projectLibraries": false
  }
 },
 "nbformat": 4,
 "nbformat_minor": 0
}
