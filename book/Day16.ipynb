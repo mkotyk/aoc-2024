{
 "cells": [
  {
   "metadata": {},
   "cell_type": "markdown",
   "source": [
    "# Day 16: Reindeer Maze\n",
    "\n",
    "### Part 1\n",
    "\n",
    "It's time again for the Reindeer Olympics! This year, the big event is the Reindeer Maze, where the Reindeer compete for the lowest score.\n",
    "\n",
    "You and The Historians arrive to search for the Chief right as the event is about to start. It wouldn't hurt to watch a little, right?\n",
    "\n",
    "The Reindeer start on the Start Tile (marked S) facing East and need to reach the End Tile (marked E). They can move forward one tile at a time (increasing their score by 1 point), but never into a wall (#). They can also rotate clockwise or counterclockwise 90 degrees at a time (increasing their score by 1000 points).\n",
    "\n",
    "To figure out the best place to sit, you start by grabbing a map (your puzzle input) from a nearby kiosk. For example:\n",
    "\n",
    "```\n",
    "###############\n",
    "#.......#....E#\n",
    "#.#.###.#.###.#\n",
    "#.....#.#...#.#\n",
    "#.###.#####.#.#\n",
    "#.#.#.......#.#\n",
    "#.#.#####.###.#\n",
    "#...........#.#\n",
    "###.#.#####.#.#\n",
    "#...#.....#.#.#\n",
    "#.#.#.###.#.#.#\n",
    "#.....#...#.#.#\n",
    "#.###.#.#.#.#.#\n",
    "#S..#.....#...#\n",
    "###############\n",
    "```\n",
    "\n",
    "There are many paths through this maze, but taking any of the best paths would incur a score of only 7036. This can be achieved by taking a total of 36 steps forward and turning 90 degrees a total of 7 times:\n",
    "\n",
    "```\n",
    "###############\n",
    "#.......#....E#\n",
    "#.#.###.#.###^#\n",
    "#.....#.#...#^#\n",
    "#.###.#####.#^#\n",
    "#.#.#.......#^#\n",
    "#.#.#####.###^#\n",
    "#..>>>>>>>>v#^#\n",
    "###^#.#####v#^#\n",
    "#>>^#.....#v#^#\n",
    "#^#.#.###.#v#^#\n",
    "#^....#...#v#^#\n",
    "#^###.#.#.#v#^#\n",
    "#S..#.....#>>^#\n",
    "###############\n",
    "```\n",
    "\n",
    "Here's a second example:\n",
    "\n",
    "```\n",
    "#################\n",
    "#...#...#...#..E#\n",
    "#.#.#.#.#.#.#.#.#\n",
    "#.#.#.#...#...#.#\n",
    "#.#.#.#.###.#.#.#\n",
    "#...#.#.#.....#.#\n",
    "#.#.#.#.#.#####.#\n",
    "#.#...#.#.#.....#\n",
    "#.#.#####.#.###.#\n",
    "#.#.#.......#...#\n",
    "#.#.###.#####.###\n",
    "#.#.#...#.....#.#\n",
    "#.#.#.#####.###.#\n",
    "#.#.#.........#.#\n",
    "#.#.#.#########.#\n",
    "#S#.............#\n",
    "#################\n",
    "```\n",
    "\n",
    "In this maze, the best paths cost 11048 points; following one such path would look like this:\n",
    "\n",
    "```\n",
    "#################\n",
    "#...#...#...#..E#\n",
    "#.#.#.#.#.#.#.#^#\n",
    "#.#.#.#...#...#^#\n",
    "#.#.#.#.###.#.#^#\n",
    "#>>v#.#.#.....#^#\n",
    "#^#v#.#.#.#####^#\n",
    "#^#v..#.#.#>>>>^#\n",
    "#^#v#####.#^###.#\n",
    "#^#v#..>>>>^#...#\n",
    "#^#v###^#####.###\n",
    "#^#v#>>^#.....#.#\n",
    "#^#v#^#####.###.#\n",
    "#^#v#^........#.#\n",
    "#^#v#^#########.#\n",
    "#S#>>^..........#\n",
    "#################\n",
    "```\n",
    "\n",
    "Note that the path shown above includes one 90 degree turn as the very first move, rotating the Reindeer from facing East to facing North.\n",
    "\n",
    "Analyze your map carefully. What is the lowest score a Reindeer could possibly get?\n",
    "\n",
    "\n"
   ]
  },
  {
   "metadata": {
    "ExecuteTime": {
     "end_time": "2024-12-17T00:10:46.279770Z",
     "start_time": "2024-12-17T00:10:45.923374Z"
    }
   },
   "cell_type": "code",
   "source": [
    "import com.psyndicate.aoc.*\n",
    "import java.util.PriorityQueue\n",
    "import kotlin.test.assertEquals\n",
    "\n",
    "val testInput =\n",
    "    \"\"\"\n",
    "    ###############\n",
    "    #.......#....E#\n",
    "    #.#.###.#.###.#\n",
    "    #.....#.#...#.#\n",
    "    #.###.#####.#.#\n",
    "    #.#.#.......#.#\n",
    "    #.#.#####.###.#\n",
    "    #...........#.#\n",
    "    ###.#.#####.#.#\n",
    "    #...#.....#.#.#\n",
    "    #.#.#.###.#.#.#\n",
    "    #.....#...#.#.#\n",
    "    #.###.#.#.#.#.#\n",
    "    #S..#.....#...#\n",
    "    ###############\n",
    "    \"\"\".trimIndent()\n",
    "\n",
    "val testInput2 =\n",
    "    \"\"\"\n",
    "    #################\n",
    "    #...#...#...#..E#\n",
    "    #.#.#.#.#.#.#.#.#\n",
    "    #.#.#.#...#...#.#\n",
    "    #.#.#.#.###.#.#.#\n",
    "    #...#.#.#.....#.#\n",
    "    #.#.#.#.#.#####.#\n",
    "    #.#...#.#.#.....#\n",
    "    #.#.#####.#.###.#\n",
    "    #.#.#.......#...#\n",
    "    #.#.###.#####.###\n",
    "    #.#.#...#.....#.#\n",
    "    #.#.#.#####.###.#\n",
    "    #.#.#.........#.#\n",
    "    #.#.#.#########.#\n",
    "    #S#.............#\n",
    "    #################\n",
    "    \"\"\".trimIndent()\n",
    "\n",
    "data class Path(val path: List<Coord>, val heading: Direction, val points: Int = 0)\n",
    "\n",
    "fun Bitmap<Char>.search(\n",
    "    position: Coord,\n",
    "    heading: Direction,\n",
    "    goal: Coord\n",
    "): Pair<Int, Int> {\n",
    "    var minScore = Int.MAX_VALUE\n",
    "    val bestSeats = mutableSetOf<Coord>()\n",
    "    val seen = mutableMapOf<Pair<Coord, Direction>, Int>()\n",
    "    val queue = PriorityQueue(compareBy(Path::points))\n",
    "    queue.add(Path(listOf(position), heading))\n",
    "    while (queue.isNotEmpty()) {\n",
    "        queue.addAll(\n",
    "            queue.poll()\n",
    "                .takeIf { (path, heading, points) ->\n",
    "                    val location = path.last() to heading\n",
    "                    val bestScore = seen.getOrDefault(location, Int.MAX_VALUE)\n",
    "                    if (points < bestScore) seen[location] = points\n",
    "                    if (location.first == goal) {\n",
    "                        if (points > minScore) {\n",
    "                            // Scores are getting worse\n",
    "                            return minScore to bestSeats.size\n",
    "                        }\n",
    "                        minScore = points\n",
    "                        bestSeats += path\n",
    "                    }\n",
    "                    points <= bestScore\n",
    "                }\n",
    "                ?.let {\n",
    "                    listOf(\n",
    "                        it.heading to 1,                                   // Forward\n",
    "                        it.heading.rotate90(clockwise = true) to 1001,     // Rotate clockwise\n",
    "                        it.heading.rotate90(clockwise = false) to 1001,    // Rotate counter-clockwise\n",
    "                    ).map { (nh, cost) -> Path(it.path + (it.path.last() + nh), nh, it.points + cost) }\n",
    "                        .filter { this@search[it.path.last()] != '#' }\n",
    "                }\n",
    "                ?: emptyList()\n",
    "        )\n",
    "\n",
    "    }\n",
    "    error(\"No path found\")\n",
    "}\n",
    "\n",
    "fun calculatePart1(input: String): Int {\n",
    "    val map = bitmapFromString(input)\n",
    "    val start = map.coords().firstOrNull { map[it] == 'S' } ?: error(\"Couldn't find start\")\n",
    "    val end = map.coords().firstOrNull { map[it] == 'E' } ?: error(\"Couldn't find end\")\n",
    "    return map.search(start, Direction.RIGHT, end).first\n",
    "}\n",
    "\n",
    "val testInputPart1Result = calculatePart1(testInput)\n",
    "DISPLAY(\"Test Part 1: ${testInputPart1Result}\")\n",
    "assertEquals(7036, testInputPart1Result)\n",
    "\n",
    "val testInput2Part1Result = calculatePart1(testInput2)\n",
    "DISPLAY(\"Test 2 Part 1: ${testInput2Part1Result}\")\n",
    "assertEquals(11048, testInput2Part1Result)\n",
    "\n",
    "val puzzleInput = readResourceAsText(\"/day16/input.txt\")\n",
    "val part1Result = calculatePart1(puzzleInput)\n",
    "DISPLAY(\"Part 1: ${part1Result}\")\n",
    "assertEquals(133584, part1Result)"
   ],
   "outputs": [
    {
     "data": {
      "text/plain": [
       "Test Part 1: 7036"
      ]
     },
     "metadata": {},
     "output_type": "display_data"
    },
    {
     "data": {
      "text/plain": [
       "Test 2 Part 1: 11048"
      ]
     },
     "metadata": {},
     "output_type": "display_data"
    },
    {
     "data": {
      "text/plain": [
       "Part 1: 133584"
      ]
     },
     "metadata": {},
     "output_type": "display_data"
    }
   ],
   "execution_count": 16
  },
  {
   "metadata": {},
   "cell_type": "markdown",
   "source": [
    "### Part 2\n",
    "\n",
    "Now that you know what the best paths look like, you can figure out the best spot to sit.\n",
    "\n",
    "Every non-wall tile (S, ., or E) is equipped with places to sit along the edges of the tile. While determining which of these tiles would be the best spot to sit depends on a whole bunch of factors (how comfortable the seats are, how far away the bathrooms are, whether there's a pillar blocking your view, etc.), the most important factor is whether the tile is on one of the best paths through the maze. If you sit somewhere else, you'd miss all the action!\n",
    "\n",
    "So, you'll need to determine which tiles are part of any best path through the maze, including the S and E tiles.\n",
    "\n",
    "In the first example, there are 45 tiles (marked O) that are part of at least one of the various best paths through the maze:\n",
    "\n",
    "```\n",
    "###############\n",
    "#.......#....O#\n",
    "#.#.###.#.###O#\n",
    "#.....#.#...#O#\n",
    "#.###.#####.#O#\n",
    "#.#.#.......#O#\n",
    "#.#.#####.###O#\n",
    "#..OOOOOOOOO#O#\n",
    "###O#O#####O#O#\n",
    "#OOO#O....#O#O#\n",
    "#O#O#O###.#O#O#\n",
    "#OOOOO#...#O#O#\n",
    "#O###.#.#.#O#O#\n",
    "#O..#.....#OOO#\n",
    "###############\n",
    "```\n",
    "\n",
    "In the second example, there are 64 tiles that are part of at least one of the best paths:\n",
    "\n",
    "```\n",
    "#################\n",
    "#...#...#...#..O#\n",
    "#.#.#.#.#.#.#.#O#\n",
    "#.#.#.#...#...#O#\n",
    "#.#.#.#.###.#.#O#\n",
    "#OOO#.#.#.....#O#\n",
    "#O#O#.#.#.#####O#\n",
    "#O#O..#.#.#OOOOO#\n",
    "#O#O#####.#O###O#\n",
    "#O#O#..OOOOO#OOO#\n",
    "#O#O###O#####O###\n",
    "#O#O#OOO#..OOO#.#\n",
    "#O#O#O#####O###.#\n",
    "#O#O#OOOOOOO..#.#\n",
    "#O#O#O#########.#\n",
    "#O#OOO..........#\n",
    "#################\n",
    "```\n",
    "Analyze your map further. How many tiles are part of at least one of the best paths through the maze?"
   ]
  },
  {
   "metadata": {
    "ExecuteTime": {
     "end_time": "2024-12-17T00:10:08.035840Z",
     "start_time": "2024-12-17T00:10:07.868391Z"
    }
   },
   "cell_type": "code",
   "source": [
    "fun calculatePart2(input: String): Int {\n",
    "    val map = bitmapFromString(input)\n",
    "    val start = map.coords().firstOrNull { map[it] == 'S' } ?: error(\"Couldn't find start\")\n",
    "    val end = map.coords().firstOrNull { map[it] == 'E' } ?: error(\"Couldn't find end\")\n",
    "    return map.search(start, Direction.RIGHT, end).second\n",
    "}\n",
    "\n",
    "val testInputPart2Result = calculatePart2(testInput)\n",
    "DISPLAY(\"Test Part 2: ${testInputPart2Result}\")\n",
    "assertEquals(45, testInputPart2Result)\n",
    "\n",
    "val testInput2Part2Result = calculatePart2(testInput2)\n",
    "DISPLAY(\"Test 2 Part 2: ${testInput2Part2Result}\")\n",
    "assertEquals(64, testInput2Part2Result)\n",
    "\n",
    "val part2Result = calculatePart2(puzzleInput)\n",
    "DISPLAY(\"Part 2: ${part2Result}\")\n",
    "assertEquals(622, part2Result)"
   ],
   "outputs": [
    {
     "data": {
      "text/plain": [
       "Test Part 2: 45"
      ]
     },
     "metadata": {},
     "output_type": "display_data"
    },
    {
     "data": {
      "text/plain": [
       "Test 2 Part 2: 64"
      ]
     },
     "metadata": {},
     "output_type": "display_data"
    },
    {
     "data": {
      "text/plain": [
       "Part 2: 622"
      ]
     },
     "metadata": {},
     "output_type": "display_data"
    }
   ],
   "execution_count": 15
  }
 ],
 "metadata": {
  "kernelspec": {
   "display_name": "Kotlin",
   "language": "kotlin",
   "name": "kotlin"
  },
  "language_info": {
   "name": "kotlin",
   "version": "1.9.23",
   "mimetype": "text/x-kotlin",
   "file_extension": ".kt",
   "pygments_lexer": "kotlin",
   "codemirror_mode": "text/x-kotlin",
   "nbconvert_exporter": ""
  },
  "ktnbPluginMetadata": {
   "projectDependencies": [
    "aoc-2024.main"
   ],
   "projectLibraries": false
  }
 },
 "nbformat": 4,
 "nbformat_minor": 0
}
