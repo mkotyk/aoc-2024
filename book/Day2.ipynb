{
 "cells": [
  {
   "metadata": {},
   "cell_type": "markdown",
   "source": [
    "# Day 2: Red-Nosed Reports\n",
    "\n",
    "### Part 1\n",
    "Fortunately, the first location The Historians want to search isn't a long walk from the Chief Historian's office.\n",
    "\n",
    "While the Red-Nosed Reindeer nuclear fusion/fission plant appears to contain no sign of the Chief Historian, the engineers there run up to you as soon as they see you. Apparently, they still talk about the time Rudolph was saved through molecular synthesis from a single electron.\n",
    "\n",
    "They're quick to add that - since you're already here - they'd really appreciate your help analyzing some unusual data from the Red-Nosed reactor. You turn to check if The Historians are waiting for you, but they seem to have already divided into groups that are currently searching every corner of the facility. You offer to help with the unusual data.\n",
    "\n",
    "The unusual data (your puzzle input) consists of many reports, one report per line. Each report is a list of numbers called levels that are separated by spaces. For example:\n",
    "\n",
    "```\n",
    "7 6 4 2 1\n",
    "1 2 7 8 9\n",
    "9 7 6 2 1\n",
    "1 3 2 4 5\n",
    "8 6 4 4 1\n",
    "1 3 6 7 9\n",
    "```\n",
    "\n",
    "This example data contains six reports each containing five levels.\n",
    "\n",
    "The engineers are trying to figure out which reports are safe. The Red-Nosed reactor safety systems can only tolerate levels that are either gradually increasing or gradually decreasing. So, a report only counts as safe if both of the following are true:\n",
    "\n",
    " - The levels are either all increasing or all decreasing.\n",
    " - Any two adjacent levels differ by at least one and at most three.\n",
    "\n",
    "In the example above, the reports can be found safe or unsafe by checking those rules:\n",
    "\n",
    " - `7 6 4 2 1`: Safe because the levels are all decreasing by 1 or 2.\n",
    " - `1 2 7 8 9`: Unsafe because 2 7 is an increase of 5.\n",
    " - `9 7 6 2 1`: Unsafe because 6 2 is a decrease of 4.\n",
    " - `1 3 2 4 5`: Unsafe because 1 3 is increasing but 3 2 is decreasing.\n",
    " - `8 6 4 4 1`: Unsafe because 4 4 is neither an increase or a decrease.\n",
    " - `1 3 6 7 9`: Safe because the levels are all increasing by 1, 2, or 3.\n",
    "  -\n",
    "So, in this example, 2 reports are safe.\n",
    "\n",
    "Analyze the unusual data from the engineers. How many reports are safe?"
   ]
  },
  {
   "metadata": {
    "ExecuteTime": {
     "end_time": "2024-12-02T16:31:46.150996Z",
     "start_time": "2024-12-02T16:31:46.031417Z"
    }
   },
   "cell_type": "code",
   "source": [
    "import com.psyndicate.aoc.parseIntegers\n",
    "import com.psyndicate.aoc.readResourceAsText\n",
    "import kotlin.test.assertEquals\n",
    "import kotlin.test.assertTrue\n",
    "\n",
    "val testInput =\n",
    "    \"\"\"\n",
    "    7 6 4 2 1\n",
    "    1 2 7 8 9\n",
    "    9 7 6 2 1\n",
    "    1 3 2 4 5\n",
    "    8 6 4 4 1\n",
    "    1 3 6 7 9\n",
    "    \"\"\".trimIndent()\n",
    "\n",
    "class Report(val data: List<Int>) {\n",
    "    fun isSafe(): Boolean {\n",
    "        val deltas = data.zipWithNext { a, b -> b - a }\n",
    "        return deltas.all { it in 1..3 } || deltas.all { it in -3..-1 }\n",
    "    }\n",
    "\n",
    "    fun isSafeDampened(): Boolean = data.indices.any { removeThis ->\n",
    "        Report(data.filterIndexed { index, _ -> removeThis != index }).isSafe()\n",
    "    }\n",
    "\n",
    "    companion object {\n",
    "        fun parse(line: String): Report = Report(line.parseIntegers())\n",
    "    }\n",
    "}\n",
    "\n",
    "fun calculatePart1(input: String): Int = input.split('\\n').map(Report::parse).count(Report::isSafe)\n",
    "\n",
    "val testInputResult = calculatePart1(testInput)\n",
    "println(\"Test Part 1: ${testInputResult}\")\n",
    "assertEquals(2, testInputResult)\n",
    "\n",
    "val puzzleInput = readResourceAsText(\"/day2/input.txt\")\n",
    "val part1Result = calculatePart1(puzzleInput)\n",
    "println(\"Part 1: ${part1Result}\")\n",
    "assertEquals(624, part1Result)\n"
   ],
   "outputs": [
    {
     "name": "stdout",
     "output_type": "stream",
     "text": [
      "Test Part 1: 2\n",
      "Part 1: 624\n"
     ]
    }
   ],
   "execution_count": 22
  },
  {
   "metadata": {},
   "cell_type": "markdown",
   "source": [
    "### Part 2\n",
    "\n",
    "The engineers are surprised by the low number of safe reports until they realize they forgot to tell you about the Problem Dampener.\n",
    "\n",
    "The Problem Dampener is a reactor-mounted module that lets the reactor safety systems tolerate a single bad level in what would otherwise be a safe report. It's like the bad level never happened!\n",
    "\n",
    "Now, the same rules apply as before, except if removing a single level from an unsafe report would make it safe, the report instead counts as safe.\n",
    "\n",
    "More of the above example's reports are now safe:\n",
    "\n",
    " - `7 6 4 2 1`: Safe without removing any level.\n",
    " - `1 2 7 8 9`: Unsafe regardless of which level is removed.\n",
    " - `9 7 6 2 1`: Unsafe regardless of which level is removed.\n",
    " - `1 3 2 4 5`: Safe by removing the second level, 3.\n",
    " - `8 6 4 4 1`: Safe by removing the third level, 4.\n",
    " - `1 3 6 7 9`: Safe without removing any level.\n",
    "\n",
    "Thanks to the Problem Dampener, 4 reports are actually safe!\n",
    "\n",
    "Update your analysis by handling situations where the Problem Dampener can remove a single level from unsafe reports. How many reports are now safe?\n",
    "\n"
   ]
  },
  {
   "metadata": {
    "ExecuteTime": {
     "end_time": "2024-12-02T16:31:47.892855Z",
     "start_time": "2024-12-02T16:31:47.819738Z"
    }
   },
   "cell_type": "code",
   "source": [
    "fun calculatePart2(input: String): Int = input.split('\\n').map(Report::parse).count(Report::isSafeDampened)\n",
    "\n",
    "val testInputResult = calculatePart2(testInput)\n",
    "println(\"Test Part 2: ${testInputResult}\")\n",
    "assertEquals(4, testInputResult)\n",
    "\n",
    "val part2Result = calculatePart2(puzzleInput)\n",
    "println(\"Part 2: ${part2Result}\")\n",
    "assertEquals(658, part2Result)"
   ],
   "outputs": [
    {
     "name": "stdout",
     "output_type": "stream",
     "text": [
      "Test Part 2: 4\n",
      "Part 2: 658\n"
     ]
    }
   ],
   "execution_count": 23
  }
 ],
 "metadata": {
  "kernelspec": {
   "display_name": "Kotlin",
   "language": "kotlin",
   "name": "kotlin"
  },
  "language_info": {
   "name": "kotlin",
   "version": "1.9.23",
   "mimetype": "text/x-kotlin",
   "file_extension": ".kt",
   "pygments_lexer": "kotlin",
   "codemirror_mode": "text/x-kotlin",
   "nbconvert_exporter": ""
  },
  "ktnbPluginMetadata": {
   "projectDependencies": [
    "aoc-2024.main"
   ],
   "projectLibraries": false
  }
 },
 "nbformat": 4,
 "nbformat_minor": 0
}
